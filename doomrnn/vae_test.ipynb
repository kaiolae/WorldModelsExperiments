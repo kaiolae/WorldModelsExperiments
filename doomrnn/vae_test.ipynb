{
 "cells": [
  {
   "cell_type": "markdown",
   "metadata": {},
   "source": [
    "Test VAE model on random frame of random file in `record`"
   ]
  },
  {
   "cell_type": "code",
   "execution_count": 39,
   "metadata": {},
   "outputs": [],
   "source": [
    "#KOE Modifying to load image data stored with the Keras scripts\n",
    "import numpy as np\n",
    "import os\n",
    "import json\n",
    "import tensorflow as tf\n",
    "import random\n",
    "from doomrnn import reset_graph, ConvVAE\n",
    "import random\n",
    "\n",
    "rand_index = random.randint(0,100)"
   ]
  },
  {
   "cell_type": "code",
   "execution_count": 2,
   "metadata": {},
   "outputs": [],
   "source": [
    "import matplotlib.pyplot as plt\n",
    "np.set_printoptions(precision=4, edgeitems=6, linewidth=100, suppress=True)"
   ]
  },
  {
   "cell_type": "code",
   "execution_count": 57,
   "metadata": {},
   "outputs": [],
   "source": [
    "os.environ[\"CUDA_VISIBLE_DEVICES\"]=\"-1\" # disable GPU\n",
    "\n",
    "DATA_DIR = \"/home/kaiolae/code/word_models_keras_test/WorldModels/data_small_episodes\"\n",
    "model_path_name = \"old_tf_models\"\n",
    "# NOTE: make sure you copy the vae model you want to test from tf_vae/vae.json to tf_models/vae.json\n",
    "\n",
    "z_size=64"
   ]
  },
  {
   "cell_type": "code",
   "execution_count": 58,
   "metadata": {},
   "outputs": [
    {
     "name": "stdout",
     "output_type": "stream",
     "text": [
      "['action_data_doomrnn_4.npy', 'obs_data_doomrnn_10.npy', 'action_data_doomrnn_1.npy', 'obs_data_doomrnn_1.npy', 'action_data_doomrnn_9.npy', 'doom_images.npz', 'obs_data_doomrnn_3.npy', 'obs_data_doomrnn_4.npy', 'action_data_doomrnn_8.npy', 'obs_data_doomrnn_9.npy', 'doom_image_converter.py', 'action_data_doomrnn_2.npy', 'action_data_doomrnn_3.npy', 'action_data_doomrnn_5.npy', 'obs_data_doomrnn_2.npy', 'obs_data_doomrnn_7.npy', 'obs_data_doomrnn_6.npy', 'obs_data_doomrnn_8.npy', '.obs_data_doomrnn_1.npy.swp', 'action_data_doomrnn_7.npy', 'action_data_doomrnn_10.npy', 'action_data_doomrnn_6.npy', 'obs_data_doomrnn_5.npy']\n"
     ]
    }
   ],
   "source": [
    "filelist = os.listdir(DATA_DIR)\n",
    "print(filelist)"
   ]
  },
  {
   "cell_type": "code",
   "execution_count": 59,
   "metadata": {},
   "outputs": [
    {
     "name": "stdout",
     "output_type": "stream",
     "text": [
      "104\n",
      "(64, 64, 3)\n"
     ]
    }
   ],
   "source": [
    "all_episodes = np.load(DATA_DIR+\"/obs_data_doomrnn_1.npy\") #100 episodes from the game\n",
    "one_random_episode = all_episodes[22] #One episode with up to 300 frames\n",
    "one_random_episode = np.array(one_random_episode)\n",
    "one_random_episode = one_random_episode.astype(np.float32)/255.0\n",
    "print(len(one_random_episode))\n",
    "one_random_picture = one_random_episode[3]\n",
    "one_random_picture = np.array(one_random_picture)\n",
    "print(one_random_picture.shape)\n",
    "one_random_picture = one_random_picture.astype(np.float32)/255.0"
   ]
  },
  {
   "cell_type": "code",
   "execution_count": 60,
   "metadata": {},
   "outputs": [
    {
     "name": "stdout",
     "output_type": "stream",
     "text": [
      "INFO:tensorflow:Model using cpu.\n"
     ]
    }
   ],
   "source": [
    "vae = ConvVAE(z_size=z_size,\n",
    "              batch_size=1,\n",
    "              is_training=False,\n",
    "              reuse=False,\n",
    "              gpu_mode=False)\n",
    "\n",
    "vae.load_json(os.path.join(model_path_name, 'vae.json'))"
   ]
  },
  {
   "cell_type": "code",
   "execution_count": 61,
   "metadata": {},
   "outputs": [
    {
     "data": {
      "image/png": "[encoded data removed]",
      "text/plain": [
       "<Figure size 432x288 with 1 Axes>"
      ]
     },
     "metadata": {
      "needs_background": "light"
     },
     "output_type": "display_data"
    }
   ],
   "source": [
    "# show recorded frame that will be fed into the input of VAE\n",
    "plt.imshow(one_random_episode[rand_index])\n",
    "plt.show()"
   ]
  },
  {
   "cell_type": "code",
   "execution_count": 62,
   "metadata": {},
   "outputs": [
    {
     "name": "stdout",
     "output_type": "stream",
     "text": [
      "[-0.6739 -0.7578 -0.4781  0.8504 -0.0967 -0.6537 -1.5798  0.819  -1.0638 -0.7858 -1.288   1.0239\n",
      " -0.1698  0.6553 -2.004  -0.0171  0.2746  0.1412 -0.6734 -0.7478  1.858  -0.4468 -2.0687  0.9537\n",
      " -0.9949 -1.0411  0.202  -0.7082 -0.0901 -0.0551  0.9923 -0.0486 -0.4252 -0.6144 -1.2934  1.9667\n",
      " -1.2575  0.6226  0.168  -0.5425  1.2257  1.495   0.3857  1.4071 -0.0073 -0.4833  0.4753 -0.2596\n",
      "  0.7592  1.3013 -0.3408  1.1998 -1.1635 -1.1277 -0.1724 -0.0458  0.5876 -0.3722  0.0263  0.5065\n",
      " -0.4533  0.1279 -0.2126  1.962 ]\n"
     ]
    }
   ],
   "source": [
    "batch_z = vae.encode(one_random_episode)\n",
    "print(batch_z[0]) # print out sampled z\n",
    "reconstruct = vae.decode(batch_z)"
   ]
  },
  {
   "cell_type": "code",
   "execution_count": 63,
   "metadata": {},
   "outputs": [
    {
     "data": {
      "image/png": "[encoded data removed]",
      "text/plain": [
       "<Figure size 432x288 with 1 Axes>"
      ]
     },
     "metadata": {
      "needs_background": "light"
     },
     "output_type": "display_data"
    }
   ],
   "source": [
    "# show reconstruction\n",
    "plt.imshow(reconstruct[rand_index])\n",
    "plt.show()"
   ]
  },
  {
   "cell_type": "code",
   "execution_count": null,
   "metadata": {},
   "outputs": [],
   "source": []
  }
 ],
 "metadata": {
  "kernelspec": {
   "display_name": "world_models_new",
   "language": "python",
   "name": "world_models_new"
  },
  "language_info": {
   "codemirror_mode": {
    "name": "ipython",
    "version": 3
   },
   "file_extension": ".py",
   "mimetype": "text/x-python",
   "name": "python",
   "nbconvert_exporter": "python",
   "pygments_lexer": "ipython3",
   "version": "3.6.6"
  }
 },
 "nbformat": 4,
 "nbformat_minor": 2
}

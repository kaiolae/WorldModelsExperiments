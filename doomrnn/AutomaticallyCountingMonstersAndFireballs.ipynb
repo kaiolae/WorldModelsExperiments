{
 "cells": [
  {
   "cell_type": "code",
   "execution_count": 1,
   "metadata": {},
   "outputs": [
    {
     "data": {
      "text/plain": [
       "[]"
      ]
     },
     "execution_count": 1,
     "metadata": {},
     "output_type": "execute_result"
    }
   ],
   "source": [
    "#Loading an image\n",
    "import numpy as np\n",
    "import matplotlib.pyplot as plt\n",
    "data = np.load(\"/home/kaiolae/code/word_models_keras_test/WorldModels/data_small_episodes/obs_data_doomrnn_1.npy\")\n",
    "one_image = data[10][146] #Image 22 from first rollout\n",
    "plt.imshow(one_image)\n",
    "plt.plot()"
   ]
  },
  {
   "cell_type": "markdown",
   "metadata": {},
   "source": [
    "## Setting an appropriate threshold"
   ]
  },
  {
   "cell_type": "code",
   "execution_count": 2,
   "metadata": {},
   "outputs": [
    {
     "data": {
      "image/png": "[encoded data removed]",
      "text/plain": [
       "<Figure size 432x288 with 1 Axes>"
      ]
     },
     "metadata": {
      "needs_background": "light"
     },
     "output_type": "display_data"
    }
   ],
   "source": [
    "# Measure Creativity by counting objects.\n",
    "#Idea: Threshold the image. Count fireballs. Then threshold the INVERSE image, count monsters.\n",
    "from skimage import io, filters, color, measure\n",
    "from scipy import ndimage\n",
    "import matplotlib.pyplot as plt\n",
    "\n",
    "im = color.rgb2gray(one_image)\n",
    "val = filters.threshold_otsu(im)\n",
    "plt.hist(im.ravel(), bins=256)\n",
    "plt.axvline(val, color='r') #Showing the image histogram and the adaptive threshold\n",
    "plt.show()"
   ]
  },
  {
   "cell_type": "code",
   "execution_count": 3,
   "metadata": {},
   "outputs": [
    {
     "data": {
      "image/png": "[encoded data removed]",
      "text/plain": [
       "<Figure size 432x288 with 1 Axes>"
      ]
     },
     "metadata": {
      "needs_background": "light"
     },
     "output_type": "display_data"
    }
   ],
   "source": [
    "#As seen above, almost all pixels are below 0.4 Testing that as threshold. It captures all fireballs.\n",
    "val = 0.4\n",
    "binary = im>val\n",
    "#drops = ndimage.binary_fill_holes(im < val)\n",
    "#plt.imshow(drops, cmap='gray')\n",
    "plt.imshow(binary, cmap='gray')\n",
    "plt.show()"
   ]
  },
  {
   "cell_type": "code",
   "execution_count": 4,
   "metadata": {},
   "outputs": [
    {
     "data": {
      "image/png": "[encoded data removed]",
      "text/plain": [
       "<Figure size 432x288 with 1 Axes>"
      ]
     },
     "metadata": {
      "needs_background": "light"
     },
     "output_type": "display_data"
    }
   ],
   "source": [
    "#Threshold image indicates that monsters are probably below 0.22. Testing that as a negative threshold.\n",
    "neg_thresh = 0.23 #Found by experimentation.\n",
    "binary_black = im<neg_thresh\n",
    "plt.imshow(binary_black, cmap='gray')\n",
    "plt.show()"
   ]
  },
  {
   "cell_type": "code",
   "execution_count": 5,
   "metadata": {},
   "outputs": [
    {
     "name": "stdout",
     "output_type": "stream",
     "text": [
      "5\n"
     ]
    },
    {
     "data": {
      "image/png": "[encoded data removed]",
      "text/plain": [
       "<Figure size 432x288 with 1 Axes>"
      ]
     },
     "metadata": {
      "needs_background": "light"
     },
     "output_type": "display_data"
    }
   ],
   "source": [
    "#Counting monsters\n",
    "monsters = ndimage.binary_fill_holes(binary_black > 0.5)\n",
    "plt.imshow(monsters, cmap='gray')\n",
    "labels = measure.label(monsters)\n",
    "print(labels.max())"
   ]
  },
  {
   "cell_type": "code",
   "execution_count": 6,
   "metadata": {},
   "outputs": [
    {
     "name": "stdout",
     "output_type": "stream",
     "text": [
      "1\n"
     ]
    },
    {
     "data": {
      "image/png": "[encoded data removed]",
      "text/plain": [
       "<Figure size 432x288 with 1 Axes>"
      ]
     },
     "metadata": {
      "needs_background": "light"
     },
     "output_type": "display_data"
    }
   ],
   "source": [
    "#Counting fireballs\n",
    "balls = ndimage.binary_fill_holes(binary > 0.5)\n",
    "plt.imshow(balls, cmap='gray')\n",
    "ball_labels = measure.label(balls)\n",
    "print(ball_labels.max())"
   ]
  },
  {
   "cell_type": "code",
   "execution_count": 8,
   "metadata": {},
   "outputs": [
    {
     "name": "stdout",
     "output_type": "stream",
     "text": [
      "1\n",
      "5\n"
     ]
    }
   ],
   "source": [
    "#Testing my external library\n",
    "from count_monsters_and_balls import count_monsters, count_fireballs\n",
    "print(count_fireballs(one_image))\n",
    "print(count_monsters(one_image))"
   ]
  },
  {
   "cell_type": "code",
   "execution_count": null,
   "metadata": {},
   "outputs": [],
   "source": []
  }
 ],
 "metadata": {
  "kernelspec": {
   "display_name": "world_models_new",
   "language": "python",
   "name": "world_models_new"
  },
  "language_info": {
   "codemirror_mode": {
    "name": "ipython",
    "version": 3
   },
   "file_extension": ".py",
   "mimetype": "text/x-python",
   "name": "python",
   "nbconvert_exporter": "python",
   "pygments_lexer": "ipython3",
   "version": "3.6.6"
  }
 },
 "nbformat": 4,
 "nbformat_minor": 2
}

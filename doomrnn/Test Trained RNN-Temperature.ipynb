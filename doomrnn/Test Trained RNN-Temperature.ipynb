{
 "cells": [
  {
   "cell_type": "code",
   "execution_count": 39,
   "metadata": {},
   "outputs": [
    {
     "name": "stdout",
     "output_type": "stream",
     "text": [
      "The autoreload extension is already loaded. To reload it, use:\n",
      "  %reload_ext autoreload\n"
     ]
    }
   ],
   "source": [
    "import analyze_rnn_predictions\n",
    "%load_ext autoreload\n",
    "%autoreload 2 #If we want to automatically load external modules as they are updated.\n",
    "#TODO insert the code limiting GPU-usage."
   ]
  },
  {
   "cell_type": "code",
   "execution_count": 2,
   "metadata": {},
   "outputs": [],
   "source": [
    "#To access gym\n",
    "import sys\n",
    "sys.path.append('/home/kaiolae/.virtualenvs/worldmodels/lib/python3.5/site-packages')\n",
    "import os"
   ]
  },
  {
   "cell_type": "code",
   "execution_count": 3,
   "metadata": {},
   "outputs": [
    {
     "name": "stdout",
     "output_type": "stream",
     "text": [
      "{4: ['run3_4mixtures', 'run6_4mixtures', 'run8_4mixtures', 'run7_4mixtures', 'run2_4mixtures', 'run9_4mixtures', 'run5_4mixtures', 'run4_4mixtures', 'run1_4mixtures']}\n"
     ]
    }
   ],
   "source": [
    "import fnmatch\n",
    "def get_all_models(num_mixtures):\n",
    "    all_models = {} #Dict of all models, with num mixtures as key\n",
    "    for folder in os.listdir('.'):\n",
    "        if fnmatch.fnmatch(folder, 'run?_'+str(num_mixtures)+'mixtures') :\n",
    "            mixtures_start_index = folder.find('_')+1\n",
    "            mixtures_end_index = folder.find('mixtures')\n",
    "            num_mixtures = int(folder[mixtures_start_index:mixtures_end_index])\n",
    "            if num_mixtures in all_models.keys():\n",
    "                all_models[num_mixtures].append(folder)\n",
    "            else:\n",
    "                all_models[num_mixtures] = [folder]\n",
    "            \n",
    "    return all_models\n",
    "            \n",
    "print(get_all_models(4))"
   ]
  },
  {
   "cell_type": "code",
   "execution_count": 4,
   "metadata": {},
   "outputs": [],
   "source": [
    "import matplotlib.pyplot as plt\n",
    "from matplotlib import animation\n",
    "from IPython.display import display, HTML\n",
    "\n",
    "\n",
    "def plot_movie_mp4(image_array):\n",
    "    dpi = 2.0\n",
    "    xpixels, ypixels = image_array[0].shape[0], image_array[0].shape[1]\n",
    "    fig = plt.figure(figsize=(ypixels/dpi, xpixels/dpi), dpi=dpi)\n",
    "    #fig = plt.figure(figsize=(1,1), dpi=dpi)\n",
    "    im = plt.figimage(image_array[0])\n",
    "\n",
    "    def animate(i):\n",
    "        im.set_array(image_array[i])\n",
    "        return (im,)\n",
    "\n",
    "    anim = animation.FuncAnimation(fig, animate, frames=len(image_array))\n",
    "    display(HTML(anim.to_html5_video()))"
   ]
  },
  {
   "cell_type": "code",
   "execution_count": 14,
   "metadata": {},
   "outputs": [
    {
     "name": "stdout",
     "output_type": "stream",
     "text": [
      "{4: ['run3_4mixtures', 'run6_4mixtures', 'run8_4mixtures', 'run7_4mixtures', 'run2_4mixtures', 'run9_4mixtures', 'run5_4mixtures', 'run4_4mixtures', 'run1_4mixtures']}\n",
      "run3_4mixtures\n",
      "INFO:tensorflow:Model using cpu.\n",
      "model using cpu\n",
      "input dropout mode = False\n",
      "output dropout mode = False\n",
      "recurrent dropout mode = False\n",
      "run6_4mixtures\n",
      "INFO:tensorflow:Model using cpu.\n",
      "model using cpu\n",
      "input dropout mode = False\n",
      "output dropout mode = False\n",
      "recurrent dropout mode = False\n",
      "run8_4mixtures\n",
      "INFO:tensorflow:Model using cpu.\n",
      "model using cpu\n",
      "input dropout mode = False\n",
      "output dropout mode = False\n",
      "recurrent dropout mode = False\n",
      "run7_4mixtures\n",
      "INFO:tensorflow:Model using cpu.\n",
      "model using cpu\n",
      "input dropout mode = False\n",
      "output dropout mode = False\n",
      "recurrent dropout mode = False\n",
      "run2_4mixtures\n",
      "INFO:tensorflow:Model using cpu.\n",
      "model using cpu\n",
      "input dropout mode = False\n",
      "output dropout mode = False\n",
      "recurrent dropout mode = False\n",
      "run9_4mixtures\n",
      "INFO:tensorflow:Model using cpu.\n",
      "model using cpu\n",
      "input dropout mode = False\n",
      "output dropout mode = False\n",
      "recurrent dropout mode = False\n",
      "run5_4mixtures\n",
      "INFO:tensorflow:Model using cpu.\n",
      "model using cpu\n",
      "input dropout mode = False\n",
      "output dropout mode = False\n",
      "recurrent dropout mode = False\n",
      "run4_4mixtures\n",
      "INFO:tensorflow:Model using cpu.\n",
      "model using cpu\n",
      "input dropout mode = False\n",
      "output dropout mode = False\n",
      "recurrent dropout mode = False\n",
      "run1_4mixtures\n",
      "INFO:tensorflow:Model using cpu.\n",
      "model using cpu\n",
      "input dropout mode = False\n",
      "output dropout mode = False\n",
      "recurrent dropout mode = False\n",
      "run3_4mixtures\n",
      "INFO:tensorflow:Model using cpu.\n",
      "model using cpu\n",
      "input dropout mode = False\n",
      "output dropout mode = False\n",
      "recurrent dropout mode = False\n",
      "run6_4mixtures\n",
      "INFO:tensorflow:Model using cpu.\n",
      "model using cpu\n",
      "input dropout mode = False\n",
      "output dropout mode = False\n",
      "recurrent dropout mode = False\n",
      "run8_4mixtures\n",
      "INFO:tensorflow:Model using cpu.\n",
      "model using cpu\n",
      "input dropout mode = False\n",
      "output dropout mode = False\n",
      "recurrent dropout mode = False\n",
      "run7_4mixtures\n",
      "INFO:tensorflow:Model using cpu.\n",
      "model using cpu\n",
      "input dropout mode = False\n",
      "output dropout mode = False\n",
      "recurrent dropout mode = False\n",
      "run2_4mixtures\n",
      "INFO:tensorflow:Model using cpu.\n",
      "model using cpu\n",
      "input dropout mode = False\n",
      "output dropout mode = False\n",
      "recurrent dropout mode = False\n",
      "run9_4mixtures\n",
      "INFO:tensorflow:Model using cpu.\n",
      "model using cpu\n",
      "input dropout mode = False\n",
      "output dropout mode = False\n",
      "recurrent dropout mode = False\n",
      "run5_4mixtures\n",
      "INFO:tensorflow:Model using cpu.\n",
      "model using cpu\n",
      "input dropout mode = False\n",
      "output dropout mode = False\n",
      "recurrent dropout mode = False\n",
      "run4_4mixtures\n",
      "INFO:tensorflow:Model using cpu.\n",
      "model using cpu\n",
      "input dropout mode = False\n",
      "output dropout mode = False\n",
      "recurrent dropout mode = False\n",
      "run1_4mixtures\n",
      "INFO:tensorflow:Model using cpu.\n",
      "model using cpu\n",
      "input dropout mode = False\n",
      "output dropout mode = False\n",
      "recurrent dropout mode = False\n",
      "run3_4mixtures\n",
      "INFO:tensorflow:Model using cpu.\n",
      "model using cpu\n",
      "input dropout mode = False\n",
      "output dropout mode = False\n",
      "recurrent dropout mode = False\n",
      "run6_4mixtures\n",
      "INFO:tensorflow:Model using cpu.\n",
      "model using cpu\n",
      "input dropout mode = False\n",
      "output dropout mode = False\n",
      "recurrent dropout mode = False\n",
      "run8_4mixtures\n",
      "INFO:tensorflow:Model using cpu.\n",
      "model using cpu\n",
      "input dropout mode = False\n",
      "output dropout mode = False\n",
      "recurrent dropout mode = False\n",
      "run7_4mixtures\n",
      "INFO:tensorflow:Model using cpu.\n",
      "model using cpu\n",
      "input dropout mode = False\n",
      "output dropout mode = False\n",
      "recurrent dropout mode = False\n",
      "run2_4mixtures\n",
      "INFO:tensorflow:Model using cpu.\n",
      "model using cpu\n",
      "input dropout mode = False\n",
      "output dropout mode = False\n",
      "recurrent dropout mode = False\n",
      "run9_4mixtures\n",
      "INFO:tensorflow:Model using cpu.\n",
      "model using cpu\n",
      "input dropout mode = False\n",
      "output dropout mode = False\n",
      "recurrent dropout mode = False\n",
      "run5_4mixtures\n",
      "INFO:tensorflow:Model using cpu.\n",
      "model using cpu\n",
      "input dropout mode = False\n",
      "output dropout mode = False\n",
      "recurrent dropout mode = False\n",
      "run4_4mixtures\n",
      "INFO:tensorflow:Model using cpu.\n",
      "model using cpu\n",
      "input dropout mode = False\n",
      "output dropout mode = False\n",
      "recurrent dropout mode = False\n",
      "run1_4mixtures\n",
      "INFO:tensorflow:Model using cpu.\n",
      "model using cpu\n",
      "input dropout mode = False\n",
      "output dropout mode = False\n",
      "recurrent dropout mode = False\n",
      "run3_4mixtures\n",
      "INFO:tensorflow:Model using cpu.\n",
      "model using cpu\n",
      "input dropout mode = False\n",
      "output dropout mode = False\n",
      "recurrent dropout mode = False\n",
      "run6_4mixtures\n",
      "INFO:tensorflow:Model using cpu.\n",
      "model using cpu\n",
      "input dropout mode = False\n",
      "output dropout mode = False\n",
      "recurrent dropout mode = False\n",
      "run8_4mixtures\n",
      "INFO:tensorflow:Model using cpu.\n",
      "model using cpu\n",
      "input dropout mode = False\n",
      "output dropout mode = False\n",
      "recurrent dropout mode = False\n",
      "run7_4mixtures\n",
      "INFO:tensorflow:Model using cpu.\n",
      "model using cpu\n",
      "input dropout mode = False\n",
      "output dropout mode = False\n",
      "recurrent dropout mode = False\n",
      "run2_4mixtures\n",
      "INFO:tensorflow:Model using cpu.\n",
      "model using cpu\n",
      "input dropout mode = False\n",
      "output dropout mode = False\n",
      "recurrent dropout mode = False\n",
      "run9_4mixtures\n",
      "INFO:tensorflow:Model using cpu.\n",
      "model using cpu\n",
      "input dropout mode = False\n",
      "output dropout mode = False\n",
      "recurrent dropout mode = False\n",
      "run5_4mixtures\n",
      "INFO:tensorflow:Model using cpu.\n",
      "model using cpu\n",
      "input dropout mode = False\n",
      "output dropout mode = False\n",
      "recurrent dropout mode = False\n",
      "run4_4mixtures\n",
      "INFO:tensorflow:Model using cpu.\n",
      "model using cpu\n",
      "input dropout mode = False\n",
      "output dropout mode = False\n",
      "recurrent dropout mode = False\n",
      "run1_4mixtures\n",
      "INFO:tensorflow:Model using cpu.\n",
      "model using cpu\n",
      "input dropout mode = False\n",
      "output dropout mode = False\n",
      "recurrent dropout mode = False\n",
      "{0.2: [<analyze_rnn_predictions.RNNAnalyzer object at 0x7effc6895b00>, <analyze_rnn_predictions.RNNAnalyzer object at 0x7effac24f2b0>, <analyze_rnn_predictions.RNNAnalyzer object at 0x7effe17d2b00>, <analyze_rnn_predictions.RNNAnalyzer object at 0x7effb81d44a8>, <analyze_rnn_predictions.RNNAnalyzer object at 0x7effe17d2f60>, <analyze_rnn_predictions.RNNAnalyzer object at 0x7effa46503c8>, <analyze_rnn_predictions.RNNAnalyzer object at 0x7eff9d49f358>, <analyze_rnn_predictions.RNNAnalyzer object at 0x7effa47ed358>, <analyze_rnn_predictions.RNNAnalyzer object at 0x7eff910ac278>], 0.4: [<analyze_rnn_predictions.RNNAnalyzer object at 0x7eff90b38160>, <analyze_rnn_predictions.RNNAnalyzer object at 0x7eff8755efd0>, <analyze_rnn_predictions.RNNAnalyzer object at 0x7effc498d160>, <analyze_rnn_predictions.RNNAnalyzer object at 0x7eff65f6df60>, <analyze_rnn_predictions.RNNAnalyzer object at 0x7effeb1aecf8>, <analyze_rnn_predictions.RNNAnalyzer object at 0x7eff58446f98>, <analyze_rnn_predictions.RNNAnalyzer object at 0x7eff418f9278>, <analyze_rnn_predictions.RNNAnalyzer object at 0x7eff3435aeb8>, <analyze_rnn_predictions.RNNAnalyzer object at 0x7effdbdd15f8>], 0.8: [<analyze_rnn_predictions.RNNAnalyzer object at 0x7effe15752e8>, <analyze_rnn_predictions.RNNAnalyzer object at 0x7eff09d7cd68>, <analyze_rnn_predictions.RNNAnalyzer object at 0x7efefe442080>, <analyze_rnn_predictions.RNNAnalyzer object at 0x7efef5ed0c88>, <analyze_rnn_predictions.RNNAnalyzer object at 0x7efee8559c18>, <analyze_rnn_predictions.RNNAnalyzer object at 0x7effb82932e8>, <analyze_rnn_predictions.RNNAnalyzer object at 0x7efed00eea58>, <analyze_rnn_predictions.RNNAnalyzer object at 0x7efec41f8ac8>, <analyze_rnn_predictions.RNNAnalyzer object at 0x7eff9d4701d0>], 1.6: [<analyze_rnn_predictions.RNNAnalyzer object at 0x7efea6909908>, <analyze_rnn_predictions.RNNAnalyzer object at 0x7eff90fc50b8>, <analyze_rnn_predictions.RNNAnalyzer object at 0x7efe916a0908>, <analyze_rnn_predictions.RNNAnalyzer object at 0x7efe8492b898>, <analyze_rnn_predictions.RNNAnalyzer object at 0x7efe6edf6828>, <analyze_rnn_predictions.RNNAnalyzer object at 0x7efe636fa7b8>, <analyze_rnn_predictions.RNNAnalyzer object at 0x7efe5950c748>, <analyze_rnn_predictions.RNNAnalyzer object at 0x7efe547d56d8>, <analyze_rnn_predictions.RNNAnalyzer object at 0x7efe512df668>]}\n"
     ]
    }
   ],
   "source": [
    "from collections import namedtuple\n",
    "\n",
    "rnn_analyzers = {}\n",
    "temperatures = [0.2, 0.4, 0.8, 1.6]\n",
    "NUM_MIXTURES = 4\n",
    "print(get_all_models(4))\n",
    "for t in temperatures:\n",
    "    rnn_analyzers[t] = []\n",
    "    for run_folder in get_all_models(NUM_MIXTURES)[NUM_MIXTURES]: #TODO Fix silly fetching\n",
    "        print(run_folder)\n",
    "        new_analyzer = analyze_rnn_predictions.RNNAnalyzer(run_folder, NUM_MIXTURES, t) #TODO Note, I previously used temp=0.1 - Which Ha noted was so low that we got mode collapse.\n",
    "        rnn_analyzers[t].append(new_analyzer)\n",
    "        \n",
    "print(rnn_analyzers)"
   ]
  },
  {
   "cell_type": "code",
   "execution_count": 34,
   "metadata": {},
   "outputs": [
    {
     "name": "stdout",
     "output_type": "stream",
     "text": [
      "INFO:tensorflow:Model using cpu.\n",
      "model using cpu\n",
      "input dropout mode = False\n",
      "output dropout mode = False\n",
      "recurrent dropout mode = False\n"
     ]
    }
   ],
   "source": []
  },
  {
   "cell_type": "code",
   "execution_count": 17,
   "metadata": {},
   "outputs": [
    {
     "name": "stdout",
     "output_type": "stream",
     "text": [
      "Actions length:  177\n",
      "Latent vectors length:  177\n"
     ]
    }
   ],
   "source": [
    "#Get a start video\n",
    "#Getting data to feed into the VAE and RNN\n",
    "import numpy as np\n",
    "import os\n",
    "# load preprocessed data\n",
    "raw_data = np.load(os.path.join(\"series\", \"series.npz\"))\n",
    "raw_data_mu = raw_data[\"mu\"]\n",
    "raw_data_logvar = raw_data[\"logvar\"]\n",
    "raw_data_action =  raw_data[\"action\"]\n",
    "\n",
    "single_action_sequence = raw_data_action[16]\n",
    "single_latent_sequence = raw_data_mu[16]\n",
    "print(\"Actions length: \", len(single_action_sequence))\n",
    "print(\"Latent vectors length: \", len(single_latent_sequence))\n",
    "num_frames = len(single_latent_sequence)\n",
    "\n",
    "\n",
    "\n",
    "#Decode all 100 vectors, store as video\n",
    "#Visualize video."
   ]
  },
  {
   "cell_type": "code",
   "execution_count": 42,
   "metadata": {},
   "outputs": [
    {
     "name": "stdout",
     "output_type": "stream",
     "text": [
      "INFO:tensorflow:Model using cpu.\n",
      "model using cpu\n",
      "input dropout mode = False\n",
      "output dropout mode = False\n",
      "recurrent dropout mode = False\n"
     ]
    },
    {
     "ename": "ValueError",
     "evalue": "too many values to unpack (expected 2)",
     "output_type": "error",
     "traceback": [
      "\u001b[0;31m---------------------------------------------------------------------------\u001b[0m",
      "\u001b[0;31mValueError\u001b[0m                                Traceback (most recent call last)",
      "\u001b[0;32m<ipython-input-42-e76390736a6e>\u001b[0m in \u001b[0;36m<module>\u001b[0;34m\u001b[0m\n\u001b[1;32m      2\u001b[0m \u001b[0;32mimport\u001b[0m \u001b[0manalyze_rnn_predictions\u001b[0m\u001b[0;34m\u001b[0m\u001b[0m\n\u001b[1;32m      3\u001b[0m \u001b[0mnew_analyzer\u001b[0m \u001b[0;34m=\u001b[0m \u001b[0manalyze_rnn_predictions\u001b[0m\u001b[0;34m.\u001b[0m\u001b[0mRNNAnalyzer\u001b[0m\u001b[0;34m(\u001b[0m\u001b[0mrun_folder\u001b[0m\u001b[0;34m,\u001b[0m \u001b[0mNUM_MIXTURES\u001b[0m\u001b[0;34m,\u001b[0m \u001b[0mt\u001b[0m\u001b[0;34m)\u001b[0m \u001b[0;31m#TODO Remove\u001b[0m\u001b[0;34m\u001b[0m\u001b[0m\n\u001b[0;32m----> 4\u001b[0;31m \u001b[0mprediction\u001b[0m\u001b[0;34m,\u001b[0m \u001b[0mlogmix2\u001b[0m \u001b[0;34m=\u001b[0m \u001b[0mnew_analyzer\u001b[0m\u001b[0;34m.\u001b[0m\u001b[0mpredict_one_step\u001b[0m\u001b[0;34m(\u001b[0m\u001b[0msingle_action_sequence\u001b[0m\u001b[0;34m[\u001b[0m\u001b[0;36m0\u001b[0m\u001b[0;34m]\u001b[0m\u001b[0;34m,\u001b[0m \u001b[0msingle_latent_sequence\u001b[0m\u001b[0;34m[\u001b[0m\u001b[0;36m0\u001b[0m\u001b[0;34m]\u001b[0m\u001b[0;34m)\u001b[0m\u001b[0;34m\u001b[0m\u001b[0m\n\u001b[0m\u001b[1;32m      5\u001b[0m \u001b[0mprint\u001b[0m\u001b[0;34m(\u001b[0m\u001b[0mlogmix2\u001b[0m\u001b[0;34m)\u001b[0m\u001b[0;34m\u001b[0m\u001b[0m\n",
      "\u001b[0;31mValueError\u001b[0m: too many values to unpack (expected 2)"
     ]
    }
   ],
   "source": [
    "#TODO return and analyze the logmix\n",
    "import analyze_rnn_predictions\n",
    "new_analyzer = analyze_rnn_predictions.RNNAnalyzer(run_folder, NUM_MIXTURES, t) #TODO Remove\n",
    "prediction, logmix2 = new_analyzer.predict_one_step(single_action_sequence[0], single_latent_sequence[0])\n",
    "print(logmix2)"
   ]
  },
  {
   "cell_type": "code",
   "execution_count": null,
   "metadata": {},
   "outputs": [],
   "source": [
    "#Decode a sequence with the VAE and visualize it\n",
    "def decode_and_visualize(latent_vector_sequence, rnn_analyzer):\n",
    "    plot_movie_mp4(rnn_analyzer.decode_with_vae(latent_vector_sequence))"
   ]
  },
  {
   "cell_type": "markdown",
   "metadata": {},
   "source": [
    "### Visualizing one sequence of latent vectors from the training data"
   ]
  },
  {
   "cell_type": "code",
   "execution_count": null,
   "metadata": {},
   "outputs": [],
   "source": [
    "#From the actual sampled images. All loss here is due to VAE.\n",
    "decode_and_visualize(single_latent_sequence, rnn1_analyzer)"
   ]
  },
  {
   "cell_type": "code",
   "execution_count": null,
   "metadata": {},
   "outputs": [],
   "source": [
    "#Generating a dream.\n",
    "action = 0 #Consider random action. Or, when predicting step by step, use the actual action\n",
    "dreamed_zs1 = []\n",
    "dreamed_z = rnn1_analyzer.predict_one_step(action, previous_z=single_latent_sequence[0])\n",
    "dreamed_zs1.append(dreamed_z)\n",
    "for i in range(100):\n",
    "    dreamed_zs1.append(rnn1_analyzer.predict_one_step(action))\n",
    "    "
   ]
  },
  {
   "cell_type": "code",
   "execution_count": null,
   "metadata": {},
   "outputs": [],
   "source": [
    "#Visualizing the dream\n",
    "decode_and_visualize(dreamed_zs1, rnn1_analyzer)"
   ]
  },
  {
   "cell_type": "code",
   "execution_count": null,
   "metadata": {},
   "outputs": [],
   "source": [
    "#Generating a dream with 16 mixtures\n",
    "action = 0 #Consider random action. Or, when predicting step by step, use the actual action\n",
    "dreamed_zs16 = []\n",
    "dreamed_z = rnn16_analyzer.predict_one_step(action, previous_z=single_latent_sequence[0])\n",
    "dreamed_zs16.append(dreamed_z)\n",
    "for i in range(100):\n",
    "    dreamed_zs16.append(rnn16_analyzer.predict_one_step(action))\n",
    "#Visualizing the dream\n",
    "decode_and_visualize(dreamed_zs16, rnn16_analyzer)"
   ]
  },
  {
   "cell_type": "markdown",
   "metadata": {},
   "source": [
    "# "
   ]
  },
  {
   "cell_type": "code",
   "execution_count": 18,
   "metadata": {
    "scrolled": false
   },
   "outputs": [
    {
     "name": "stdout",
     "output_type": "stream",
     "text": [
      "0\n",
      "analyzing  <analyze_rnn_predictions.RNNAnalyzer object at 0x7effc6895b00>\n",
      "analyzing  <analyze_rnn_predictions.RNNAnalyzer object at 0x7effac24f2b0>\n",
      "analyzing  <analyze_rnn_predictions.RNNAnalyzer object at 0x7effe17d2b00>\n",
      "analyzing  <analyze_rnn_predictions.RNNAnalyzer object at 0x7effb81d44a8>\n",
      "analyzing  <analyze_rnn_predictions.RNNAnalyzer object at 0x7effe17d2f60>\n",
      "analyzing  <analyze_rnn_predictions.RNNAnalyzer object at 0x7effa46503c8>\n",
      "analyzing  <analyze_rnn_predictions.RNNAnalyzer object at 0x7eff9d49f358>\n",
      "analyzing  <analyze_rnn_predictions.RNNAnalyzer object at 0x7effa47ed358>\n",
      "analyzing  <analyze_rnn_predictions.RNNAnalyzer object at 0x7eff910ac278>\n",
      "analyzing  <analyze_rnn_predictions.RNNAnalyzer object at 0x7eff90b38160>\n",
      "analyzing  <analyze_rnn_predictions.RNNAnalyzer object at 0x7eff8755efd0>\n",
      "analyzing  <analyze_rnn_predictions.RNNAnalyzer object at 0x7effc498d160>\n",
      "analyzing  <analyze_rnn_predictions.RNNAnalyzer object at 0x7eff65f6df60>\n",
      "analyzing  <analyze_rnn_predictions.RNNAnalyzer object at 0x7effeb1aecf8>\n",
      "analyzing  <analyze_rnn_predictions.RNNAnalyzer object at 0x7eff58446f98>\n",
      "analyzing  <analyze_rnn_predictions.RNNAnalyzer object at 0x7eff418f9278>\n",
      "analyzing  <analyze_rnn_predictions.RNNAnalyzer object at 0x7eff3435aeb8>\n",
      "analyzing  <analyze_rnn_predictions.RNNAnalyzer object at 0x7effdbdd15f8>\n",
      "analyzing  <analyze_rnn_predictions.RNNAnalyzer object at 0x7effe15752e8>\n",
      "analyzing  <analyze_rnn_predictions.RNNAnalyzer object at 0x7eff09d7cd68>\n",
      "analyzing  <analyze_rnn_predictions.RNNAnalyzer object at 0x7efefe442080>\n",
      "analyzing  <analyze_rnn_predictions.RNNAnalyzer object at 0x7efef5ed0c88>\n",
      "analyzing  <analyze_rnn_predictions.RNNAnalyzer object at 0x7efee8559c18>\n",
      "analyzing  <analyze_rnn_predictions.RNNAnalyzer object at 0x7effb82932e8>\n",
      "analyzing  <analyze_rnn_predictions.RNNAnalyzer object at 0x7efed00eea58>\n",
      "analyzing  <analyze_rnn_predictions.RNNAnalyzer object at 0x7efec41f8ac8>\n",
      "analyzing  <analyze_rnn_predictions.RNNAnalyzer object at 0x7eff9d4701d0>\n",
      "analyzing  <analyze_rnn_predictions.RNNAnalyzer object at 0x7efea6909908>\n",
      "analyzing  <analyze_rnn_predictions.RNNAnalyzer object at 0x7eff90fc50b8>\n",
      "analyzing  <analyze_rnn_predictions.RNNAnalyzer object at 0x7efe916a0908>\n",
      "analyzing  <analyze_rnn_predictions.RNNAnalyzer object at 0x7efe8492b898>\n",
      "analyzing  <analyze_rnn_predictions.RNNAnalyzer object at 0x7efe6edf6828>\n",
      "analyzing  <analyze_rnn_predictions.RNNAnalyzer object at 0x7efe636fa7b8>\n",
      "analyzing  <analyze_rnn_predictions.RNNAnalyzer object at 0x7efe5950c748>\n",
      "analyzing  <analyze_rnn_predictions.RNNAnalyzer object at 0x7efe547d56d8>\n",
      "analyzing  <analyze_rnn_predictions.RNNAnalyzer object at 0x7efe512df668>\n",
      "    fireball_delta  monster_delta  num_fireballs  num_mixtures  num_monsters  \\\n",
      "0                0            271              0             4          3916   \n",
      "1                0            207              1             4          3485   \n",
      "2                0            289              0             4          3594   \n",
      "3                0            420              0             4          3818   \n",
      "4                0            158              0             4          3762   \n",
      "5              780            718            412             4          3948   \n",
      "6                0            403              0             4          3965   \n",
      "7               18            821             95             4          3768   \n",
      "8                0            124              0             4          3144   \n",
      "9                0            321              0             4          3843   \n",
      "10               0            188              1             4          3474   \n",
      "11               2            468              2             4          3658   \n",
      "12               0            444              0             4          3694   \n",
      "13               0            279              0             4          3722   \n",
      "14              50            605            421             4          4154   \n",
      "15               0            491              0             4          3662   \n",
      "16               6            749            407             4          4231   \n",
      "17               0            240              0             4          3354   \n",
      "18              68            702            285             4          3972   \n",
      "19             171           1001            398             4          4537   \n",
      "20             182           1076            875             4          4053   \n",
      "21             217           1101             62             4          3848   \n",
      "22               4            350              2             4          3654   \n",
      "23             293           1260            879             4          4999   \n",
      "24             142           1107            706             4          4085   \n",
      "25              92            610            300             4          4261   \n",
      "26              26            465              2             4          3772   \n",
      "27             253           1487            677             4          4527   \n",
      "28             260           1362           1209             4          4150   \n",
      "29             284           1162           1147             4          4874   \n",
      "30             332           1516           1145             4          4838   \n",
      "31             209           1185            530             4          4443   \n",
      "32             232           1361            918             4          5048   \n",
      "33             268           1485            748             4          4760   \n",
      "34             172           1070           1197             4          4691   \n",
      "35             266           1456            965             4          5290   \n",
      "\n",
      "    temp  \n",
      "0    0.2  \n",
      "1    0.2  \n",
      "2    0.2  \n",
      "3    0.2  \n",
      "4    0.2  \n",
      "5    0.2  \n",
      "6    0.2  \n",
      "7    0.2  \n",
      "8    0.2  \n",
      "9    0.4  \n",
      "10   0.4  \n",
      "11   0.4  \n",
      "12   0.4  \n",
      "13   0.4  \n",
      "14   0.4  \n",
      "15   0.4  \n",
      "16   0.4  \n",
      "17   0.4  \n",
      "18   0.8  \n",
      "19   0.8  \n",
      "20   0.8  \n",
      "21   0.8  \n",
      "22   0.8  \n",
      "23   0.8  \n",
      "24   0.8  \n",
      "25   0.8  \n",
      "26   0.8  \n",
      "27   1.6  \n",
      "28   1.6  \n",
      "29   1.6  \n",
      "30   1.6  \n",
      "31   1.6  \n",
      "32   1.6  \n",
      "33   1.6  \n",
      "34   1.6  \n",
      "35   1.6  \n"
     ]
    }
   ],
   "source": [
    "#TODO Without reset, I got the expected result. But with reset, differences between RNNs disappear.\n",
    "#Do differences for some reason only appear after a (large) number of iterations??\n",
    "#One solution might be to run 1000 timesteps, to ensure we get into the internal state that\n",
    "#exposes differences.\n",
    "#Also, randomizing initial_z could help.\n",
    "#Yes, longer sequences seemed to work.\n",
    "\n",
    "#TODO A better measure of creativity is differences between consecutive frames. Did a ball appear/disappear, etc?\n",
    "#Test plotting that with \"fireball_delta\"/monster_delta\n",
    "\n",
    "import pandas as pd\n",
    "from test_creativity_stability import count_events_on_trained_rnn, count_appearances_and_disappearances\n",
    "#Comparing performance of different models\n",
    "initial_z = single_latent_sequence[0]\n",
    "EPISODE_LENGTHS = 1000\n",
    "zero_actions = [0 for i in range(EPISODE_LENGTHS)]\n",
    "\n",
    "#TODO These should both instead reflect the difference from initial_z, since we want to\n",
    "#measure creativity.\n",
    "\n",
    "#Collecting data for all treatments\n",
    "dream_data = []\n",
    "NUM_STATISTICAL_TESTS = 1\n",
    "\n",
    "for i in range(NUM_STATISTICAL_TESTS):\n",
    "    print(i)\n",
    "    for temp, rnn_model_list in rnn_analyzers.items():\n",
    "        for rnn_model in rnn_model_list:\n",
    "            print(\"analyzing \", rnn_model)            \n",
    "            rnn_model._reset(initial_z)\n",
    "            e = count_events_on_trained_rnn(rnn_model.vae, rnn_model, initial_z, zero_actions, EPISODE_LENGTHS)\n",
    "            d = count_appearances_and_disappearances(rnn_model.vae, rnn_model, initial_z, zero_actions, EPISODE_LENGTHS)\n",
    "            combined_dict = {**e, **d}\n",
    "            combined_dict[\"num_mixtures\"] = NUM_MIXTURES\n",
    "            combined_dict[\"temp\"] = temp\n",
    "            dream_data.append(combined_dict)\n",
    "            \n",
    "#Turning dream-data entries into dataframes, one for each treatment\n",
    "dream_dataframes = pd.DataFrame(dream_data)\n",
    "print(dream_dataframes)\n",
    "\n",
    "#TODO Something is wrong in my measurement of fireballs delta. It shouldn't be possible that it's bigger than\n",
    "#num_fireballs.\n",
    "#TODO should be easy to dump to file also now.\n",
    "#At some point, I should split into a generate-and-dump script (this), and a load-and-analyze script.\n",
    "#dream_\n",
    "\n",
    "#TODO Not easy to see any clear effects of modifying number of mixtures."
   ]
  },
  {
   "cell_type": "code",
   "execution_count": null,
   "metadata": {},
   "outputs": [],
   "source": [
    "for num_mixtures in fireballs_dreamed.keys():\n",
    "    fireball_dreams = fireballs_dreamed[num_mixtures]\n",
    "    print(\"avg fireballs for \", num_mixtures, \": \", sum(fireball_dreams)/float(len(fireball_dreams)))\n",
    "    monster_dreams = monsters_dreamed[num_mixtures]"
   ]
  },
  {
   "cell_type": "code",
   "execution_count": null,
   "metadata": {},
   "outputs": [],
   "source": [
    "print(fb1)"
   ]
  },
  {
   "cell_type": "code",
   "execution_count": 19,
   "metadata": {},
   "outputs": [
    {
     "name": "stdout",
     "output_type": "stream",
     "text": [
      "(177, 64)\n",
      "(1770,)\n",
      "(1770, 64)\n",
      "Analyzing  <analyze_rnn_predictions.RNNAnalyzer object at 0x7effc6895b00>\n",
      "Analyzing  <analyze_rnn_predictions.RNNAnalyzer object at 0x7effac24f2b0>\n",
      "Analyzing  <analyze_rnn_predictions.RNNAnalyzer object at 0x7effe17d2b00>\n",
      "Analyzing  <analyze_rnn_predictions.RNNAnalyzer object at 0x7effb81d44a8>\n",
      "Analyzing  <analyze_rnn_predictions.RNNAnalyzer object at 0x7effe17d2f60>\n",
      "Analyzing  <analyze_rnn_predictions.RNNAnalyzer object at 0x7effa46503c8>\n",
      "Analyzing  <analyze_rnn_predictions.RNNAnalyzer object at 0x7eff9d49f358>\n",
      "Analyzing  <analyze_rnn_predictions.RNNAnalyzer object at 0x7effa47ed358>\n",
      "Analyzing  <analyze_rnn_predictions.RNNAnalyzer object at 0x7eff910ac278>\n",
      "Analyzing  <analyze_rnn_predictions.RNNAnalyzer object at 0x7eff90b38160>\n",
      "Analyzing  <analyze_rnn_predictions.RNNAnalyzer object at 0x7eff8755efd0>\n",
      "Analyzing  <analyze_rnn_predictions.RNNAnalyzer object at 0x7effc498d160>\n",
      "Analyzing  <analyze_rnn_predictions.RNNAnalyzer object at 0x7eff65f6df60>\n",
      "Analyzing  <analyze_rnn_predictions.RNNAnalyzer object at 0x7effeb1aecf8>\n",
      "Analyzing  <analyze_rnn_predictions.RNNAnalyzer object at 0x7eff58446f98>\n",
      "Analyzing  <analyze_rnn_predictions.RNNAnalyzer object at 0x7eff418f9278>\n",
      "Analyzing  <analyze_rnn_predictions.RNNAnalyzer object at 0x7eff3435aeb8>\n",
      "Analyzing  <analyze_rnn_predictions.RNNAnalyzer object at 0x7effdbdd15f8>\n",
      "Analyzing  <analyze_rnn_predictions.RNNAnalyzer object at 0x7effe15752e8>\n",
      "Analyzing  <analyze_rnn_predictions.RNNAnalyzer object at 0x7eff09d7cd68>\n",
      "Analyzing  <analyze_rnn_predictions.RNNAnalyzer object at 0x7efefe442080>\n",
      "Analyzing  <analyze_rnn_predictions.RNNAnalyzer object at 0x7efef5ed0c88>\n",
      "Analyzing  <analyze_rnn_predictions.RNNAnalyzer object at 0x7efee8559c18>\n",
      "Analyzing  <analyze_rnn_predictions.RNNAnalyzer object at 0x7effb82932e8>\n",
      "Analyzing  <analyze_rnn_predictions.RNNAnalyzer object at 0x7efed00eea58>\n",
      "Analyzing  <analyze_rnn_predictions.RNNAnalyzer object at 0x7efec41f8ac8>\n",
      "Analyzing  <analyze_rnn_predictions.RNNAnalyzer object at 0x7eff9d4701d0>\n",
      "Analyzing  <analyze_rnn_predictions.RNNAnalyzer object at 0x7efea6909908>\n",
      "Analyzing  <analyze_rnn_predictions.RNNAnalyzer object at 0x7eff90fc50b8>\n",
      "Analyzing  <analyze_rnn_predictions.RNNAnalyzer object at 0x7efe916a0908>\n",
      "Analyzing  <analyze_rnn_predictions.RNNAnalyzer object at 0x7efe8492b898>\n",
      "Analyzing  <analyze_rnn_predictions.RNNAnalyzer object at 0x7efe6edf6828>\n",
      "Analyzing  <analyze_rnn_predictions.RNNAnalyzer object at 0x7efe636fa7b8>\n",
      "Analyzing  <analyze_rnn_predictions.RNNAnalyzer object at 0x7efe5950c748>\n",
      "Analyzing  <analyze_rnn_predictions.RNNAnalyzer object at 0x7efe547d56d8>\n",
      "Analyzing  <analyze_rnn_predictions.RNNAnalyzer object at 0x7efe512df668>\n",
      "    imagined_fireballs  imagined_monsters  missing_fireballs  \\\n",
      "0                   59                725                167   \n",
      "1                   60                800                175   \n",
      "2                   80                641                143   \n",
      "3                   84                685                150   \n",
      "4                   61                774                166   \n",
      "5                   62                677                186   \n",
      "6                   60                878                163   \n",
      "7                   63                750                151   \n",
      "8                   81                797                145   \n",
      "9                   54                850                171   \n",
      "10                  59                794                176   \n",
      "11                  89                741                150   \n",
      "12                  91                760                138   \n",
      "13                  63                753                168   \n",
      "14                  65                725                180   \n",
      "15                  72                970                163   \n",
      "16                  66                806                158   \n",
      "17                  80                899                146   \n",
      "18                  72                943                174   \n",
      "19                  90                910                173   \n",
      "20                 104                912                146   \n",
      "21                 106                952                164   \n",
      "22                  71                961                170   \n",
      "23                  74                892                193   \n",
      "24                  89               1069                160   \n",
      "25                  82                964                154   \n",
      "26                 103               1015                170   \n",
      "27                 112               1351                178   \n",
      "28                 136               1269                184   \n",
      "29                 132               1265                161   \n",
      "30                 158               1240                166   \n",
      "31                 125               1328                174   \n",
      "32                 130               1299                179   \n",
      "33                 137               1444                178   \n",
      "34                 129               1276                177   \n",
      "35                 173               1355                172   \n",
      "\n",
      "    missing_monsters  num_mixtures  temp  \n",
      "0                966             4   0.2  \n",
      "1                806             4   0.2  \n",
      "2                874             4   0.2  \n",
      "3                991             4   0.2  \n",
      "4                859             4   0.2  \n",
      "5                875             4   0.2  \n",
      "6                849             4   0.2  \n",
      "7                894             4   0.2  \n",
      "8                911             4   0.2  \n",
      "9                924             4   0.4  \n",
      "10               845             4   0.4  \n",
      "11               915             4   0.4  \n",
      "12               969             4   0.4  \n",
      "13               896             4   0.4  \n",
      "14               903             4   0.4  \n",
      "15               824             4   0.4  \n",
      "16               912             4   0.4  \n",
      "17               874             4   0.4  \n",
      "18               881             4   0.8  \n",
      "19               839             4   0.8  \n",
      "20               863             4   0.8  \n",
      "21               876             4   0.8  \n",
      "22               848             4   0.8  \n",
      "23               903             4   0.8  \n",
      "24               750             4   0.8  \n",
      "25               868             4   0.8  \n",
      "26               864             4   0.8  \n",
      "27               752             4   1.6  \n",
      "28               833             4   1.6  \n",
      "29               763             4   1.6  \n",
      "30               797             4   1.6  \n",
      "31               794             4   1.6  \n",
      "32               780             4   1.6  \n",
      "33               704             4   1.6  \n",
      "34               760             4   1.6  \n",
      "35               780             4   1.6  \n"
     ]
    }
   ],
   "source": [
    "#Testing differences between real and predicted images. Rather than dreaming up many steps ahead, we here\n",
    "#Dream 1 step ahead, and compare to what actually happened. Tests stability of the prediction.\n",
    "errors = [] #With 1 entry for each model, showing its parameters and results\n",
    "initial_z = single_latent_sequence[0]\n",
    "\n",
    "NUM_STATISTICAL_TESTS = 1\n",
    "from test_creativity_stability import count_differences_between_reality_and_prediction\n",
    "\n",
    "print(single_latent_sequence.shape)\n",
    "#TODO Is this short sequence hiding differences? Making a fake long sequence by concatenating.\n",
    "extended_latent_sequence = []\n",
    "for i in range(10):\n",
    "    for latent in single_latent_sequence:\n",
    "        extended_latent_sequence.append(latent)\n",
    "extended_latent_sequence = np.array(extended_latent_sequence)\n",
    "#padded_action_sequence = np.append(single_action_sequence, 0)\n",
    "extended_actions = np.repeat(single_action_sequence, 10)\n",
    "\n",
    "print(extended_actions.shape)\n",
    "print(extended_latent_sequence.shape)\n",
    "\n",
    "for i in range(NUM_STATISTICAL_TESTS):\n",
    "    for temp, rnn_model_list in rnn_analyzers.items():\n",
    "        for rnn_model in rnn_model_list:      \n",
    "            print(\"Analyzing \", rnn_model)\n",
    "            rnn_model._reset(initial_z)\n",
    "            e = count_differences_between_reality_and_prediction(rnn_model.vae, rnn_model, extended_latent_sequence, extended_actions)\n",
    "            e['num_mixtures'] = NUM_MIXTURES\n",
    "            e['temp'] = temp\n",
    "            errors.append(e)\n",
    "            \n",
    "#Turning entries into dataframes, one for each treatment\n",
    "error_dataframes = pd.DataFrame(errors)\n",
    "print(error_dataframes)\n"
   ]
  },
  {
   "cell_type": "code",
   "execution_count": null,
   "metadata": {},
   "outputs": [],
   "source": [
    "for num_mixtures in fireballs_dreamed.keys():\n",
    "    err = errors[num_mixtures]\n",
    "    print(\"avg errors for \", num_mixtures, \": \", sum(err)/float(len(err)))\n",
    "\n",
    "#Preliminary conclusion: Many mixtures (8/16) give more creativity, being able to \"imagine\" more fireballs,\n",
    "#but also more inaccuracies, by imagining fireballs that shouldnt be there."
   ]
  },
  {
   "cell_type": "markdown",
   "metadata": {},
   "source": [
    "## Creativity"
   ]
  },
  {
   "cell_type": "code",
   "execution_count": 21,
   "metadata": {},
   "outputs": [
    {
     "data": {
      "image/png": "[encoded data removed]",
      "text/plain": [
       "<Figure size 432x288 with 1 Axes>"
      ]
     },
     "metadata": {
      "needs_background": "light"
     },
     "output_type": "display_data"
    }
   ],
   "source": [
    "import matplotlib.pyplot as plt\n",
    "import seaborn as sns\n",
    "import pandas as pd\n",
    "#print(sns.load)\n",
    "sns.boxplot(x=\"temp\", y=\"num_fireballs\", data=dream_dataframes)\n",
    "sns.despine()\n",
    "#plt.show()\n",
    "\n",
    "#Plotting fireballs per episode"
   ]
  },
  {
   "cell_type": "code",
   "execution_count": 23,
   "metadata": {},
   "outputs": [
    {
     "data": {
      "image/png": "[encoded data removed]",
      "text/plain": [
       "<Figure size 432x288 with 1 Axes>"
      ]
     },
     "metadata": {
      "needs_background": "light"
     },
     "output_type": "display_data"
    }
   ],
   "source": [
    "sns.boxenplot(x=\"temp\", y=\"fireball_delta\", data=dream_dataframes)\n",
    "sns.despine()"
   ]
  },
  {
   "cell_type": "markdown",
   "metadata": {},
   "source": [
    "## Accuracy"
   ]
  },
  {
   "cell_type": "code",
   "execution_count": 24,
   "metadata": {},
   "outputs": [
    {
     "data": {
      "image/png": "[encoded data removed]",
      "text/plain": [
       "<Figure size 432x288 with 1 Axes>"
      ]
     },
     "metadata": {
      "needs_background": "light"
     },
     "output_type": "display_data"
    }
   ],
   "source": [
    "sns.boxenplot(x=\"temp\", y=\"imagined_fireballs\", data=error_dataframes)\n",
    "sns.despine()"
   ]
  },
  {
   "cell_type": "code",
   "execution_count": 26,
   "metadata": {},
   "outputs": [
    {
     "data": {
      "image/png": "[encoded data removed]",
      "text/plain": [
       "<Figure size 432x288 with 1 Axes>"
      ]
     },
     "metadata": {
      "needs_background": "light"
     },
     "output_type": "display_data"
    }
   ],
   "source": [
    "sns.boxenplot(x=\"temp\", y=\"imagined_monsters\", data=error_dataframes)\n",
    "sns.despine()"
   ]
  },
  {
   "cell_type": "code",
   "execution_count": 28,
   "metadata": {},
   "outputs": [
    {
     "data": {
      "image/png": "[encoded data removed]",
      "text/plain": [
       "<Figure size 432x288 with 1 Axes>"
      ]
     },
     "metadata": {
      "needs_background": "light"
     },
     "output_type": "display_data"
    }
   ],
   "source": [
    "sns.boxenplot(x=\"temp\", y=\"missing_monsters\", data=error_dataframes)\n",
    "sns.despine() #TODO Seems to be no disadvantage to being creative here - 16 gives low errors. Maybe if I let it dream for more frames?"
   ]
  },
  {
   "cell_type": "code",
   "execution_count": 30,
   "metadata": {},
   "outputs": [
    {
     "data": {
      "image/png": "[encoded data removed]",
      "text/plain": [
       "<Figure size 432x288 with 1 Axes>"
      ]
     },
     "metadata": {
      "needs_background": "light"
     },
     "output_type": "display_data"
    }
   ],
   "source": [
    "sns.boxenplot(x=\"temp\", y=\"missing_fireballs\", data=error_dataframes)\n",
    "sns.despine()"
   ]
  },
  {
   "cell_type": "code",
   "execution_count": null,
   "metadata": {},
   "outputs": [],
   "source": [
    "#Plotting monsters per episode\n",
    "#print(sns.load)\n",
    "monsters_data=[]\n",
    "for error_dataframes\n",
    "monsters_data = np.array([m1, m4, m8, m16])\n",
    "monsters_data = pd.DataFrame(monsters_data.T)\n",
    "monsters_data.columns = ['1', '4', '8', '16']\n",
    "\n",
    "sns.boxenplot(data=monsters_data, palette='Blues')\n",
    "sns.despine()\n",
    "#plt.show()\n",
    "\n",
    "boxplot_data.describe()"
   ]
  },
  {
   "cell_type": "code",
   "execution_count": null,
   "metadata": {},
   "outputs": [],
   "source": [
    "#Statistical test\n",
    "from scipy.stats import mannwhitneyu\n",
    "print(\"statistical difference in fireballs with 1 vs 4 mixtures\")\n",
    "print(mannwhitneyu(fb1, fb4))\n",
    "print(\"statistical difference in fireballs with 4 vs 16 mixtures\")\n",
    "print(mannwhitneyu(fb4, fb16))"
   ]
  },
  {
   "cell_type": "code",
   "execution_count": null,
   "metadata": {},
   "outputs": [],
   "source": [
    "#Missing fireballs\n",
    "missing_fireballs_data = np.array([mf1, mf4, mf8, mf16])\n",
    "missing_fireballs_data = pd.DataFrame(missing_fireballs_data.T)\n",
    "missing_fireballs_data.columns = ['1', '4', '8', '16']\n",
    "sns.boxenplot(data=missing_fireballs_data)\n"
   ]
  },
  {
   "cell_type": "code",
   "execution_count": null,
   "metadata": {},
   "outputs": [],
   "source": [
    "#Imagined fireballs\n",
    "imagined_fireballs_data = np.array([if1, if4, if8, if16])\n",
    "imagined_fireballs_data = pd.DataFrame(imagined_fireballs_data.T)\n",
    "imagined_fireballs_data.columns = ['1', '4', '8', '16']\n",
    "sns.boxenplot(data=imagined_fireballs_data)"
   ]
  },
  {
   "cell_type": "code",
   "execution_count": null,
   "metadata": {},
   "outputs": [],
   "source": [
    "#Total prediction errors\n",
    "prediction_errors = np.array([errors1, errors4, errors8, errors16])\n",
    "prediction_errors_data = pd.DataFrame(prediction_errors.T)\n",
    "prediction_errors_data.columns = ['1', '4', '8', '16']\n",
    "sns.boxenplot(data=prediction_errors_data)"
   ]
  },
  {
   "cell_type": "code",
   "execution_count": null,
   "metadata": {},
   "outputs": [],
   "source": [
    "#Making a \"pareto plot\" of creativity vs precision\n",
    "#TODO Change my measurements, to measure these two on the same rollouts.\n",
    "#TODO Each datapoint should represent a single model - I need to run multiple trainings of each model.\n",
    "creativity_precision_data=[] #Tuples (treatment, creativity, precision)\n",
    "all_precision_data = [errors1, errors4, errors8, errors16] #TODO Replace with more complete data\n",
    "all_creativity_data = [fb1, fb4, fb8, fb16]\n",
    "creativity_prediction_data_summed=[]\n",
    "for treatment_counter in range(len(all_precision_data)):\n",
    "    treatment_precision = all_precision_data[treatment_counter]\n",
    "    treatment_creativity = all_creativity_data[treatment_counter]\n",
    "    current_treatment_summed=[0, 0]\n",
    "    for i in range(len(treatment_precision)):\n",
    "        creativity_precision_data.append([\"Treatment\"+str(treatment_counter), treatment_precision[i], treatment_creativity[i]])\n",
    "        current_treatment_summed[0]=current_treatment_summed[0]+treatment_precision[i]\n",
    "        current_treatment_summed[1]=current_treatment_summed[1]+treatment_creativity[i]\n",
    "    creativity_prediction_data_summed.append(current_treatment_summed)\n",
    "print(creativity_precision_data)"
   ]
  },
  {
   "cell_type": "code",
   "execution_count": null,
   "metadata": {},
   "outputs": [],
   "source": [
    "#TODO May become quite interesting with more data points.\n",
    "creativity_precision_data_summed = np.array(creativity_precision_data_summed)\n",
    "print(creativity_precision_data_summed)\n",
    "creativity_precision_dataframe = pd.DataFrame({\"Treatment\":[\"1\",\"4\",\"8\",\"16\"],\n",
    "                                               \"precision-error\":creativity_precision_data_summed[:,0],\n",
    "                                               \"creativity\":creativity_precision_data_summed[:,1]})\n",
    "sns.scatterplot(x=\"precision-error\", y=\"creativity\", data=creativity_precision_dataframe, style=\"Treatment\")"
   ]
  },
  {
   "cell_type": "code",
   "execution_count": null,
   "metadata": {},
   "outputs": [],
   "source": [
    "\n",
    "creativity_precision_data=np.array(creativity_precision_data)\n",
    "creativity_precision_dataframe = pd.DataFrame({\"Treatment\":creativity_precision_data[:,0],\n",
    "                                               \"precision-error\":creativity_precision_data[:,1],\n",
    "                                               \"creativity\":creativity_precision_data[:,2]})\n",
    "creativity_precision_dataframe = creativity_precision_dataframe.apply(pd.to_numeric, errors='ignore')\n",
    "print(creativity_precision_dataframe.dtypes)\n",
    "print(creativity_precision_dataframe)\n",
    "sns.scatterplot(x=\"creativity\", y=\"precision-error\", data=creativity_precision_dataframe, style=\"Treatment\")"
   ]
  },
  {
   "cell_type": "code",
   "execution_count": null,
   "metadata": {},
   "outputs": [],
   "source": [
    "tips = sns.load_dataset(\"tips\")\n",
    "print(tips)\n",
    "sns.scatterplot(x=\"tip\", y=\"total_bill\", data=tips)"
   ]
  },
  {
   "cell_type": "code",
   "execution_count": null,
   "metadata": {},
   "outputs": [],
   "source": []
  }
 ],
 "metadata": {
  "kernelspec": {
   "display_name": "world_models_cpu",
   "language": "python",
   "name": "world_models_cpu"
  },
  "language_info": {
   "codemirror_mode": {
    "name": "ipython",
    "version": 3
   },
   "file_extension": ".py",
   "mimetype": "text/x-python",
   "name": "python",
   "nbconvert_exporter": "python",
   "pygments_lexer": "ipython3",
   "version": "3.6.6"
  }
 },
 "nbformat": 4,
 "nbformat_minor": 2
}

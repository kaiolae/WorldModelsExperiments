{
 "cells": [
  {
   "cell_type": "code",
   "execution_count": 10,
   "metadata": {},
   "outputs": [],
   "source": [
    "import analyze_rnn_predictions\n",
    "%load_ext autoreload\n",
    "%autoreload 2 #If we want to automatically load external modules as they are updated.\n",
    "#TODO insert the code limiting GPU-usage."
   ]
  },
  {
   "cell_type": "code",
   "execution_count": null,
   "metadata": {},
   "outputs": [],
   "source": [
    "#To access gym\n",
    "import sys\n",
    "sys.path.append('/home/kaiolae/.virtualenvs/worldmodels/lib/python3.5/site-packages')\n",
    "import os"
   ]
  },
  {
   "cell_type": "code",
   "execution_count": 3,
   "metadata": {},
   "outputs": [
    {
     "name": "stdout",
     "output_type": "stream",
     "text": [
      "{1: ['run5_1mixtures', 'run2_1mixtures', 'run7_1mixtures', 'run1_1mixtures', 'run4_1mixtures', 'run3_1mixtures', 'run6_1mixtures'], 2: ['run3_2mixtures', 'run7_2mixtures', 'run6_2mixtures', 'run2_2mixtures', 'run5_2mixtures', 'run1_2mixtures', 'run4_2mixtures'], 4: ['run3_4mixtures', 'run6_4mixtures', 'run7_4mixtures', 'run2_4mixtures', 'run5_4mixtures', 'run4_4mixtures', 'run1_4mixtures'], 8: ['run4_8mixtures', 'run2_8mixtures', 'run1_8mixtures', 'run6_8mixtures', 'run3_8mixtures', 'run7_8mixtures', 'run5_8mixtures'], 16: ['run1_16mixtures', 'run3_16mixtures', 'run4_16mixtures', 'run2_16mixtures', 'run6_16mixtures', 'run5_16mixtures', 'run7_16mixtures']}\n"
     ]
    }
   ],
   "source": [
    "import fnmatch\n",
    "def get_all_models():\n",
    "    all_models = {} #Dict of all models, with num mixtures as key\n",
    "    for folder in os.listdir('.'):\n",
    "        if fnmatch.fnmatch(folder, 'run?_*mixtures') :\n",
    "            mixtures_start_index = folder.find('_')+1\n",
    "            mixtures_end_index = folder.find('mixtures')\n",
    "            num_mixtures = int(folder[mixtures_start_index:mixtures_end_index])\n",
    "            if num_mixtures in all_models.keys():\n",
    "                all_models[num_mixtures].append(folder)\n",
    "            else:\n",
    "                all_models[num_mixtures] = [folder]\n",
    "            \n",
    "    return all_models\n",
    "            \n",
    "print(get_all_models())"
   ]
  },
  {
   "cell_type": "code",
   "execution_count": 4,
   "metadata": {},
   "outputs": [],
   "source": [
    "import matplotlib.pyplot as plt\n",
    "from matplotlib import animation\n",
    "from IPython.display import display, HTML\n",
    "\n",
    "\n",
    "def plot_movie_mp4(image_array):\n",
    "    dpi = 2.0\n",
    "    xpixels, ypixels = image_array[0].shape[0], image_array[0].shape[1]\n",
    "    fig = plt.figure(figsize=(ypixels/dpi, xpixels/dpi), dpi=dpi)\n",
    "    #fig = plt.figure(figsize=(1,1), dpi=dpi)\n",
    "    im = plt.figimage(image_array[0])\n",
    "\n",
    "    def animate(i):\n",
    "        im.set_array(image_array[i])\n",
    "        return (im,)\n",
    "\n",
    "    anim = animation.FuncAnimation(fig, animate, frames=len(image_array))\n",
    "    display(HTML(anim.to_html5_video()))"
   ]
  },
  {
   "cell_type": "code",
   "execution_count": 6,
   "metadata": {},
   "outputs": [
    {
     "name": "stdout",
     "output_type": "stream",
     "text": [
      "Loading model:  run5_1mixtures\n",
      "INFO:tensorflow:Model using cpu.\n",
      "model using cpu\n",
      "input dropout mode = False\n",
      "output dropout mode = False\n",
      "recurrent dropout mode = False\n",
      "Loading model:  run2_1mixtures\n",
      "INFO:tensorflow:Model using cpu.\n",
      "model using cpu\n",
      "input dropout mode = False\n",
      "output dropout mode = False\n",
      "recurrent dropout mode = False\n",
      "Loading model:  run1_1mixtures\n",
      "INFO:tensorflow:Model using cpu.\n",
      "model using cpu\n",
      "input dropout mode = False\n",
      "output dropout mode = False\n",
      "recurrent dropout mode = False\n",
      "Loading model:  run4_1mixtures\n",
      "INFO:tensorflow:Model using cpu.\n",
      "model using cpu\n",
      "input dropout mode = False\n",
      "output dropout mode = False\n",
      "recurrent dropout mode = False\n",
      "Loading model:  run3_1mixtures\n",
      "INFO:tensorflow:Model using cpu.\n",
      "model using cpu\n",
      "input dropout mode = False\n",
      "output dropout mode = False\n",
      "recurrent dropout mode = False\n",
      "Loading model:  run6_1mixtures\n",
      "INFO:tensorflow:Model using cpu.\n",
      "model using cpu\n",
      "input dropout mode = False\n",
      "output dropout mode = False\n",
      "recurrent dropout mode = False\n",
      "Loading model:  run3_2mixtures\n",
      "INFO:tensorflow:Model using cpu.\n",
      "model using cpu\n",
      "input dropout mode = False\n",
      "output dropout mode = False\n",
      "recurrent dropout mode = False\n",
      "Loading model:  run6_2mixtures\n",
      "INFO:tensorflow:Model using cpu.\n",
      "model using cpu\n",
      "input dropout mode = False\n",
      "output dropout mode = False\n",
      "recurrent dropout mode = False\n",
      "Loading model:  run2_2mixtures\n",
      "INFO:tensorflow:Model using cpu.\n",
      "model using cpu\n",
      "input dropout mode = False\n",
      "output dropout mode = False\n",
      "recurrent dropout mode = False\n",
      "Loading model:  run5_2mixtures\n",
      "INFO:tensorflow:Model using cpu.\n",
      "model using cpu\n",
      "input dropout mode = False\n",
      "output dropout mode = False\n",
      "recurrent dropout mode = False\n",
      "Loading model:  run1_2mixtures\n",
      "INFO:tensorflow:Model using cpu.\n",
      "model using cpu\n",
      "input dropout mode = False\n",
      "output dropout mode = False\n",
      "recurrent dropout mode = False\n",
      "Loading model:  run4_2mixtures\n",
      "INFO:tensorflow:Model using cpu.\n",
      "model using cpu\n",
      "input dropout mode = False\n",
      "output dropout mode = False\n",
      "recurrent dropout mode = False\n",
      "Loading model:  run3_4mixtures\n",
      "INFO:tensorflow:Model using cpu.\n",
      "model using cpu\n",
      "input dropout mode = False\n",
      "output dropout mode = False\n",
      "recurrent dropout mode = False\n",
      "Loading model:  run6_4mixtures\n",
      "INFO:tensorflow:Model using cpu.\n",
      "model using cpu\n",
      "input dropout mode = False\n",
      "output dropout mode = False\n",
      "recurrent dropout mode = False\n",
      "Loading model:  run2_4mixtures\n",
      "INFO:tensorflow:Model using cpu.\n",
      "model using cpu\n",
      "input dropout mode = False\n",
      "output dropout mode = False\n",
      "recurrent dropout mode = False\n",
      "Loading model:  run5_4mixtures\n",
      "INFO:tensorflow:Model using cpu.\n",
      "model using cpu\n",
      "input dropout mode = False\n",
      "output dropout mode = False\n",
      "recurrent dropout mode = False\n",
      "Loading model:  run4_4mixtures\n",
      "INFO:tensorflow:Model using cpu.\n",
      "model using cpu\n",
      "input dropout mode = False\n",
      "output dropout mode = False\n",
      "recurrent dropout mode = False\n",
      "Loading model:  run1_4mixtures\n",
      "INFO:tensorflow:Model using cpu.\n",
      "model using cpu\n",
      "input dropout mode = False\n",
      "output dropout mode = False\n",
      "recurrent dropout mode = False\n",
      "Loading model:  run4_8mixtures\n",
      "INFO:tensorflow:Model using cpu.\n",
      "model using cpu\n",
      "input dropout mode = False\n",
      "output dropout mode = False\n",
      "recurrent dropout mode = False\n",
      "Loading model:  run2_8mixtures\n",
      "INFO:tensorflow:Model using cpu.\n",
      "model using cpu\n",
      "input dropout mode = False\n",
      "output dropout mode = False\n",
      "recurrent dropout mode = False\n",
      "Loading model:  run1_8mixtures\n",
      "INFO:tensorflow:Model using cpu.\n",
      "model using cpu\n",
      "input dropout mode = False\n",
      "output dropout mode = False\n",
      "recurrent dropout mode = False\n",
      "Loading model:  run6_8mixtures\n",
      "INFO:tensorflow:Model using cpu.\n",
      "model using cpu\n",
      "input dropout mode = False\n",
      "output dropout mode = False\n",
      "recurrent dropout mode = False\n",
      "Loading model:  run3_8mixtures\n",
      "INFO:tensorflow:Model using cpu.\n",
      "model using cpu\n",
      "input dropout mode = False\n",
      "output dropout mode = False\n",
      "recurrent dropout mode = False\n",
      "Loading model:  run5_8mixtures\n",
      "INFO:tensorflow:Model using cpu.\n",
      "model using cpu\n",
      "input dropout mode = False\n",
      "output dropout mode = False\n",
      "recurrent dropout mode = False\n",
      "Loading model:  run1_16mixtures\n",
      "INFO:tensorflow:Model using cpu.\n",
      "model using cpu\n",
      "input dropout mode = False\n",
      "output dropout mode = False\n",
      "recurrent dropout mode = False\n",
      "Loading model:  run3_16mixtures\n",
      "INFO:tensorflow:Model using cpu.\n",
      "model using cpu\n",
      "input dropout mode = False\n",
      "output dropout mode = False\n",
      "recurrent dropout mode = False\n",
      "Loading model:  run4_16mixtures\n",
      "INFO:tensorflow:Model using cpu.\n",
      "model using cpu\n",
      "input dropout mode = False\n",
      "output dropout mode = False\n",
      "recurrent dropout mode = False\n",
      "Loading model:  run2_16mixtures\n",
      "INFO:tensorflow:Model using cpu.\n",
      "model using cpu\n",
      "input dropout mode = False\n",
      "output dropout mode = False\n",
      "recurrent dropout mode = False\n",
      "Loading model:  run6_16mixtures\n",
      "INFO:tensorflow:Model using cpu.\n",
      "model using cpu\n",
      "input dropout mode = False\n",
      "output dropout mode = False\n",
      "recurrent dropout mode = False\n",
      "Loading model:  run5_16mixtures\n",
      "INFO:tensorflow:Model using cpu.\n",
      "model using cpu\n",
      "input dropout mode = False\n",
      "output dropout mode = False\n",
      "recurrent dropout mode = False\n"
     ]
    }
   ],
   "source": [
    "from collections import namedtuple\n",
    "\n",
    "rnn_analyzers = {}\n",
    "for key, val in get_all_models().items():\n",
    "    rnn_analyzers[key] = []\n",
    "    for model in val:\n",
    "        if \"run7\" in model:\n",
    "            continue #TODO To avoid an inclomplete run. TODO remove.\n",
    "        print(\"Loading model: \", model)\n",
    "        new_analyzer = analyze_rnn_predictions.RNNAnalyzer(model, key, 1.15) #TODO Note, I previously used temp=0.1 - Which Ha noted was so low that we got mode collapse.\n",
    "        rnn_analyzers[key].append(new_analyzer)"
   ]
  },
  {
   "cell_type": "code",
   "execution_count": 31,
   "metadata": {},
   "outputs": [
    {
     "name": "stdout",
     "output_type": "stream",
     "text": [
      "Actions length:  177\n",
      "Latent vectors length:  177\n"
     ]
    }
   ],
   "source": [
    "#Get a start video\n",
    "#Getting data to feed into the VAE and RNN\n",
    "import numpy as np\n",
    "import os\n",
    "# load preprocessed data\n",
    "raw_data = np.load(os.path.join(\"series\", \"series.npz\"))\n",
    "raw_data_mu = raw_data[\"mu\"]\n",
    "raw_data_logvar = raw_data[\"logvar\"]\n",
    "raw_data_action =  raw_data[\"action\"]\n",
    "\n",
    "single_action_sequence = raw_data_action[16]\n",
    "single_latent_sequence = raw_data_mu[16]\n",
    "print(\"Actions length: \", len(single_action_sequence))\n",
    "print(\"Latent vectors length: \", len(single_latent_sequence))\n",
    "num_frames = len(single_latent_sequence)\n",
    "\n",
    "\n",
    "\n",
    "#Decode all 100 vectors, store as video\n",
    "#Visualize video."
   ]
  },
  {
   "cell_type": "code",
   "execution_count": null,
   "metadata": {},
   "outputs": [],
   "source": [
    "#Decode a sequence with the VAE and visualize it\n",
    "def decode_and_visualize(latent_vector_sequence, rnn_analyzer):\n",
    "    plot_movie_mp4(rnn_analyzer.decode_with_vae(latent_vector_sequence))"
   ]
  },
  {
   "cell_type": "markdown",
   "metadata": {},
   "source": [
    "### Visualizing one sequence of latent vectors from the training data"
   ]
  },
  {
   "cell_type": "code",
   "execution_count": null,
   "metadata": {},
   "outputs": [],
   "source": [
    "#From the actual sampled images. All loss here is due to VAE.\n",
    "decode_and_visualize(single_latent_sequence, rnn1_analyzer)"
   ]
  },
  {
   "cell_type": "code",
   "execution_count": null,
   "metadata": {},
   "outputs": [],
   "source": [
    "#Generating a dream.\n",
    "action = 0 #Consider random action. Or, when predicting step by step, use the actual action\n",
    "dreamed_zs1 = []\n",
    "dreamed_z = rnn1_analyzer.predict_one_step(action, previous_z=single_latent_sequence[0])\n",
    "dreamed_zs1.append(dreamed_z)\n",
    "for i in range(100):\n",
    "    dreamed_zs1.append(rnn1_analyzer.predict_one_step(action))\n",
    "    "
   ]
  },
  {
   "cell_type": "code",
   "execution_count": null,
   "metadata": {},
   "outputs": [],
   "source": [
    "#Visualizing the dream\n",
    "decode_and_visualize(dreamed_zs1, rnn1_analyzer)"
   ]
  },
  {
   "cell_type": "code",
   "execution_count": null,
   "metadata": {},
   "outputs": [],
   "source": [
    "#Generating a dream with 16 mixtures\n",
    "action = 0 #Consider random action. Or, when predicting step by step, use the actual action\n",
    "dreamed_zs16 = []\n",
    "dreamed_z = rnn16_analyzer.predict_one_step(action, previous_z=single_latent_sequence[0])\n",
    "dreamed_zs16.append(dreamed_z)\n",
    "for i in range(100):\n",
    "    dreamed_zs16.append(rnn16_analyzer.predict_one_step(action))\n",
    "#Visualizing the dream\n",
    "decode_and_visualize(dreamed_zs16, rnn16_analyzer)"
   ]
  },
  {
   "cell_type": "markdown",
   "metadata": {},
   "source": [
    "# "
   ]
  },
  {
   "cell_type": "code",
   "execution_count": 15,
   "metadata": {
    "scrolled": false
   },
   "outputs": [
    {
     "name": "stdout",
     "output_type": "stream",
     "text": [
      "0\n",
      "analyzing  <analyze_rnn_predictions.RNNAnalyzer object at 0x7f0d08261b70>\n",
      "analyzing  <analyze_rnn_predictions.RNNAnalyzer object at 0x7f0d8c0b71d0>\n",
      "analyzing  <analyze_rnn_predictions.RNNAnalyzer object at 0x7f0cbd83dd30>\n",
      "analyzing  <analyze_rnn_predictions.RNNAnalyzer object at 0x7f0d5a8fa438>\n",
      "analyzing  <analyze_rnn_predictions.RNNAnalyzer object at 0x7f0d4f1c2390>\n",
      "analyzing  <analyze_rnn_predictions.RNNAnalyzer object at 0x7f0d4d38d358>\n",
      "analyzing  <analyze_rnn_predictions.RNNAnalyzer object at 0x7f0d8ca6dcf8>\n",
      "analyzing  <analyze_rnn_predictions.RNNAnalyzer object at 0x7f0e3440e668>\n",
      "analyzing  <analyze_rnn_predictions.RNNAnalyzer object at 0x7f0d8f775f60>\n",
      "analyzing  <analyze_rnn_predictions.RNNAnalyzer object at 0x7f0e08147ef0>\n",
      "analyzing  <analyze_rnn_predictions.RNNAnalyzer object at 0x7f0e3689fda0>\n",
      "analyzing  <analyze_rnn_predictions.RNNAnalyzer object at 0x7f0cf1902588>\n",
      "analyzing  <analyze_rnn_predictions.RNNAnalyzer object at 0x7f0e5e484da0>\n",
      "analyzing  <analyze_rnn_predictions.RNNAnalyzer object at 0x7f0f188e5470>\n",
      "analyzing  <analyze_rnn_predictions.RNNAnalyzer object at 0x7f0e36583048>\n",
      "analyzing  <analyze_rnn_predictions.RNNAnalyzer object at 0x7f0e21641048>\n",
      "analyzing  <analyze_rnn_predictions.RNNAnalyzer object at 0x7f0dfe415358>\n",
      "analyzing  <analyze_rnn_predictions.RNNAnalyzer object at 0x7f0df3599b70>\n",
      "analyzing  <analyze_rnn_predictions.RNNAnalyzer object at 0x7f0d8c0392b0>\n",
      "analyzing  <analyze_rnn_predictions.RNNAnalyzer object at 0x7f0ddca2f9b0>\n",
      "analyzing  <analyze_rnn_predictions.RNNAnalyzer object at 0x7f0e60ce4198>\n",
      "analyzing  <analyze_rnn_predictions.RNNAnalyzer object at 0x7f0e49644160>\n",
      "analyzing  <analyze_rnn_predictions.RNNAnalyzer object at 0x7f0db324e940>\n",
      "analyzing  <analyze_rnn_predictions.RNNAnalyzer object at 0x7f0da7795828>\n",
      "analyzing  <analyze_rnn_predictions.RNNAnalyzer object at 0x7f0da429f780>\n",
      "analyzing  <analyze_rnn_predictions.RNNAnalyzer object at 0x7f0de40b44a8>\n",
      "analyzing  <analyze_rnn_predictions.RNNAnalyzer object at 0x7f0d67534780>\n",
      "analyzing  <analyze_rnn_predictions.RNNAnalyzer object at 0x7f0d4db7d710>\n",
      "analyzing  <analyze_rnn_predictions.RNNAnalyzer object at 0x7f0d4c1cd6a0>\n",
      "analyzing  <analyze_rnn_predictions.RNNAnalyzer object at 0x7f0d3d0d4550>\n",
      "    fireball_delta  monster_delta  num_fireballs  num_mixtures  num_monsters\n",
      "0              163           1095             39             1          3948\n",
      "1              353           1330            321             1          4082\n",
      "2                8            613              4             1          4018\n",
      "3              372           1473            657             1          3969\n",
      "4              132           1028            114             1          4153\n",
      "5              428           1389            280             1          4186\n",
      "6              185           1191            788             2          3879\n",
      "7              106           1022              3             2          3713\n",
      "8                4            497              1             2          3653\n",
      "9              198           1360            814             2          4193\n",
      "10             207           1266            761             2          4937\n",
      "11             214           1445            965             2          4680\n",
      "12             152           1161            573             4          4498\n",
      "13             228           1144            800             4          3780\n",
      "14             334           1430            853             4          4806\n",
      "15              22            605              8             4          3920\n",
      "16              83            831            606             4          4354\n",
      "17             189           1274            349             4          4019\n",
      "18             296           1330            757             8          3796\n",
      "19             136            948            592             8          4344\n",
      "20             112           1199            690             8          4672\n",
      "21             150            943            453             8          4407\n",
      "22             830           1597           1066             8          4442\n",
      "23             231           1503            575             8          4470\n",
      "24             110            899            740            16          4370\n",
      "25             214           1101            915            16          4936\n",
      "26             264           1423            765            16          4247\n",
      "27             195           1292            947            16          4526\n",
      "28             236           1252            844            16          4194\n",
      "29             184           1139           1278            16          4582\n"
     ]
    }
   ],
   "source": [
    "#TODO Without reset, I got the expected result. But with reset, differences between RNNs disappear.\n",
    "#Do differences for some reason only appear after a (large) number of iterations??\n",
    "#One solution might be to run 1000 timesteps, to ensure we get into the internal state that\n",
    "#exposes differences.\n",
    "#Also, randomizing initial_z could help.\n",
    "#Yes, longer sequences seemed to work.\n",
    "\n",
    "#TODO A better measure of creativity is differences between consecutive frames. Did a ball appear/disappear, etc?\n",
    "#Test plotting that with \"fireball_delta\"/monster_delta\n",
    "\n",
    "import pandas as pd\n",
    "from test_creativity_stability import count_events_on_trained_rnn, count_appearances_and_disappearances\n",
    "#Comparing performance of different models\n",
    "initial_z = single_latent_sequence[0]\n",
    "EPISODE_LENGTHS = 1000\n",
    "zero_actions = [0 for i in range(EPISODE_LENGTHS)]\n",
    "\n",
    "#TODO These should both instead reflect the difference from initial_z, since we want to\n",
    "#measure creativity.\n",
    "\n",
    "#Collecting data for all treatments\n",
    "dream_data = []\n",
    "NUM_STATISTICAL_TESTS = 1\n",
    "\n",
    "for i in range(NUM_STATISTICAL_TESTS):\n",
    "    print(i)\n",
    "    for num_mixtures, rnn_model_list in rnn_analyzers.items():\n",
    "        for rnn_model in rnn_model_list:\n",
    "            print(\"analyzing \", rnn_model)            \n",
    "            rnn_model._reset(initial_z)\n",
    "            e = count_events_on_trained_rnn(rnn_model.vae, rnn_model, initial_z, zero_actions, EPISODE_LENGTHS)\n",
    "            d = count_appearances_and_disappearances(rnn_model.vae, rnn_model, initial_z, zero_actions, EPISODE_LENGTHS)\n",
    "            combined_dict = {**e, **d}\n",
    "            combined_dict[\"num_mixtures\"] = num_mixtures\n",
    "            dream_data.append(combined_dict)\n",
    "            \n",
    "#Turning dream-data entries into dataframes, one for each treatment\n",
    "dream_dataframes = pd.DataFrame(dream_data)\n",
    "print(dream_dataframes)\n",
    "\n",
    "#TODO Something is wrong in my measurement of fireballs delta. It shouldn't be possible that it's bigger than\n",
    "#num_fireballs.\n",
    "#TODO should be easy to dump to file also now.\n",
    "#At some point, I should split into a generate-and-dump script (this), and a load-and-analyze script.\n",
    "#dream_"
   ]
  },
  {
   "cell_type": "code",
   "execution_count": null,
   "metadata": {},
   "outputs": [],
   "source": [
    "for num_mixtures in fireballs_dreamed.keys():\n",
    "    fireball_dreams = fireballs_dreamed[num_mixtures]\n",
    "    print(\"avg fireballs for \", num_mixtures, \": \", sum(fireball_dreams)/float(len(fireball_dreams)))\n",
    "    monster_dreams = monsters_dreamed[num_mixtures]"
   ]
  },
  {
   "cell_type": "code",
   "execution_count": null,
   "metadata": {},
   "outputs": [],
   "source": [
    "print(fb1)"
   ]
  },
  {
   "cell_type": "code",
   "execution_count": 35,
   "metadata": {},
   "outputs": [
    {
     "name": "stdout",
     "output_type": "stream",
     "text": [
      "(177, 64)\n",
      "(1770,)\n",
      "(1770, 64)\n",
      "Analyzing  <analyze_rnn_predictions.RNNAnalyzer object at 0x7f0d08261b70>\n",
      "Analyzing  <analyze_rnn_predictions.RNNAnalyzer object at 0x7f0d8c0b71d0>\n",
      "Analyzing  <analyze_rnn_predictions.RNNAnalyzer object at 0x7f0cbd83dd30>\n",
      "Analyzing  <analyze_rnn_predictions.RNNAnalyzer object at 0x7f0d5a8fa438>\n",
      "Analyzing  <analyze_rnn_predictions.RNNAnalyzer object at 0x7f0d4f1c2390>\n",
      "Analyzing  <analyze_rnn_predictions.RNNAnalyzer object at 0x7f0d4d38d358>\n",
      "Analyzing  <analyze_rnn_predictions.RNNAnalyzer object at 0x7f0d8ca6dcf8>\n",
      "Analyzing  <analyze_rnn_predictions.RNNAnalyzer object at 0x7f0e3440e668>\n",
      "Analyzing  <analyze_rnn_predictions.RNNAnalyzer object at 0x7f0d8f775f60>\n",
      "Analyzing  <analyze_rnn_predictions.RNNAnalyzer object at 0x7f0e08147ef0>\n",
      "Analyzing  <analyze_rnn_predictions.RNNAnalyzer object at 0x7f0e3689fda0>\n",
      "Analyzing  <analyze_rnn_predictions.RNNAnalyzer object at 0x7f0cf1902588>\n",
      "Analyzing  <analyze_rnn_predictions.RNNAnalyzer object at 0x7f0e5e484da0>\n",
      "Analyzing  <analyze_rnn_predictions.RNNAnalyzer object at 0x7f0f188e5470>\n",
      "Analyzing  <analyze_rnn_predictions.RNNAnalyzer object at 0x7f0e36583048>\n",
      "Analyzing  <analyze_rnn_predictions.RNNAnalyzer object at 0x7f0e21641048>\n",
      "Analyzing  <analyze_rnn_predictions.RNNAnalyzer object at 0x7f0dfe415358>\n",
      "Analyzing  <analyze_rnn_predictions.RNNAnalyzer object at 0x7f0df3599b70>\n",
      "Analyzing  <analyze_rnn_predictions.RNNAnalyzer object at 0x7f0d8c0392b0>\n",
      "Analyzing  <analyze_rnn_predictions.RNNAnalyzer object at 0x7f0ddca2f9b0>\n",
      "Analyzing  <analyze_rnn_predictions.RNNAnalyzer object at 0x7f0e60ce4198>\n",
      "Analyzing  <analyze_rnn_predictions.RNNAnalyzer object at 0x7f0e49644160>\n",
      "Analyzing  <analyze_rnn_predictions.RNNAnalyzer object at 0x7f0db324e940>\n",
      "Analyzing  <analyze_rnn_predictions.RNNAnalyzer object at 0x7f0da7795828>\n",
      "Analyzing  <analyze_rnn_predictions.RNNAnalyzer object at 0x7f0da429f780>\n",
      "Analyzing  <analyze_rnn_predictions.RNNAnalyzer object at 0x7f0de40b44a8>\n",
      "Analyzing  <analyze_rnn_predictions.RNNAnalyzer object at 0x7f0d67534780>\n",
      "Analyzing  <analyze_rnn_predictions.RNNAnalyzer object at 0x7f0d4db7d710>\n",
      "Analyzing  <analyze_rnn_predictions.RNNAnalyzer object at 0x7f0d4c1cd6a0>\n",
      "Analyzing  <analyze_rnn_predictions.RNNAnalyzer object at 0x7f0d3d0d4550>\n",
      "    imagined_fireballs  imagined_monsters  missing_fireballs  \\\n",
      "0                  102               1143                166   \n",
      "1                   87               1137                198   \n",
      "2                  130               1167                159   \n",
      "3                  112               1204                168   \n",
      "4                   91               1097                161   \n",
      "5                  122               1045                150   \n",
      "6                   96               1153                143   \n",
      "7                  104               1058                205   \n",
      "8                   70               1073                155   \n",
      "9                   86               1047                192   \n",
      "10                  80               1174                200   \n",
      "11                 109               1117                164   \n",
      "12                  74               1114                165   \n",
      "13                  94               1094                182   \n",
      "14                  93               1151                172   \n",
      "15                  93               1163                156   \n",
      "16                  88               1040                162   \n",
      "17                 111               1182                180   \n",
      "18                 106               1067                140   \n",
      "19                  95               1111                185   \n",
      "20                  93               1116                153   \n",
      "21                  74               1104                184   \n",
      "22                  94               1099                175   \n",
      "23                 114               1125                170   \n",
      "24                  81               1075                154   \n",
      "25                 101               1189                177   \n",
      "26                 106               1102                155   \n",
      "27                 100               1164                156   \n",
      "28                  92               1108                148   \n",
      "29                  92               1086                174   \n",
      "\n",
      "    missing_monsters  num_mixtures  \n",
      "0                814             1  \n",
      "1                836             1  \n",
      "2                827             1  \n",
      "3                827             1  \n",
      "4                809             1  \n",
      "5                813             1  \n",
      "6                767             2  \n",
      "7                823             2  \n",
      "8                920             2  \n",
      "9                758             2  \n",
      "10               812             2  \n",
      "11               773             2  \n",
      "12               810             4  \n",
      "13               842             4  \n",
      "14               799             4  \n",
      "15               751             4  \n",
      "16               819             4  \n",
      "17               807             4  \n",
      "18               811             8  \n",
      "19               902             8  \n",
      "20               827             8  \n",
      "21               862             8  \n",
      "22               784             8  \n",
      "23               818             8  \n",
      "24               834            16  \n",
      "25               816            16  \n",
      "26               777            16  \n",
      "27               814            16  \n",
      "28               821            16  \n",
      "29               878            16  \n"
     ]
    }
   ],
   "source": [
    "#Testing differences between real and predicted images. Rather than dreaming up many steps ahead, we here\n",
    "#Dream 1 step ahead, and compare to what actually happened. Tests stability of the prediction.\n",
    "errors = [] #With 1 entry for each model, showing its parameters and results\n",
    "initial_z = single_latent_sequence[0]\n",
    "\n",
    "NUM_STATISTICAL_TESTS = 1\n",
    "from test_creativity_stability import count_differences_between_reality_and_prediction\n",
    "\n",
    "print(single_latent_sequence.shape)\n",
    "#TODO Is this short sequence hiding differences? Making a fake long sequence by concatenating.\n",
    "extended_latent_sequence = []\n",
    "for i in range(10):\n",
    "    for latent in single_latent_sequence:\n",
    "        extended_latent_sequence.append(latent)\n",
    "extended_latent_sequence = np.array(extended_latent_sequence)\n",
    "#padded_action_sequence = np.append(single_action_sequence, 0)\n",
    "extended_actions = np.repeat(single_action_sequence, 10)\n",
    "\n",
    "print(extended_actions.shape)\n",
    "print(extended_latent_sequence.shape)\n",
    "\n",
    "for i in range(NUM_STATISTICAL_TESTS):\n",
    "    for num_mixtures, rnn_model_list in rnn_analyzers.items():\n",
    "        for rnn_model in rnn_model_list:      \n",
    "            print(\"Analyzing \", rnn_model)\n",
    "            rnn_model._reset(initial_z)\n",
    "            e = count_differences_between_reality_and_prediction(rnn_model.vae, rnn_model, extended_latent_sequence, extended_actions)\n",
    "            e['num_mixtures'] = num_mixtures\n",
    "            errors.append(e)\n",
    "            \n",
    "#Turning entries into dataframes, one for each treatment\n",
    "error_dataframes = pd.DataFrame(errors)\n",
    "print(error_dataframes)\n"
   ]
  },
  {
   "cell_type": "code",
   "execution_count": null,
   "metadata": {},
   "outputs": [],
   "source": [
    "for num_mixtures in fireballs_dreamed.keys():\n",
    "    err = errors[num_mixtures]\n",
    "    print(\"avg errors for \", num_mixtures, \": \", sum(err)/float(len(err)))\n",
    "\n",
    "#Preliminary conclusion: Many mixtures (8/16) give more creativity, being able to \"imagine\" more fireballs,\n",
    "#but also more inaccuracies, by imagining fireballs that shouldnt be there."
   ]
  },
  {
   "cell_type": "code",
   "execution_count": 16,
   "metadata": {},
   "outputs": [
    {
     "data": {
      "image/png": "[encoded data removed]",
      "text/plain": [
       "<Figure size 432x288 with 1 Axes>"
      ]
     },
     "metadata": {
      "needs_background": "light"
     },
     "output_type": "display_data"
    }
   ],
   "source": [
    "import matplotlib.pyplot as plt\n",
    "import seaborn as sns\n",
    "import pandas as pd\n",
    "#print(sns.load)\n",
    "sns.boxenplot(x=\"num_mixtures\", y=\"num_fireballs\", data=dream_dataframes)\n",
    "sns.despine()\n",
    "#plt.show()\n",
    "\n",
    "#Plotting fireballs per episode - making more sense now."
   ]
  },
  {
   "cell_type": "code",
   "execution_count": 17,
   "metadata": {},
   "outputs": [
    {
     "data": {
      "image/png": "[encoded data removed]",
      "text/plain": [
       "<Figure size 432x288 with 1 Axes>"
      ]
     },
     "metadata": {
      "needs_background": "light"
     },
     "output_type": "display_data"
    }
   ],
   "source": [
    "sns.boxenplot(x=\"num_mixtures\", y=\"fireball_delta\", data=dream_dataframes)\n",
    "sns.despine()"
   ]
  },
  {
   "cell_type": "code",
   "execution_count": 36,
   "metadata": {},
   "outputs": [
    {
     "data": {
      "image/png": "[encoded data removed]",
      "text/plain": [
       "<Figure size 432x288 with 1 Axes>"
      ]
     },
     "metadata": {
      "needs_background": "light"
     },
     "output_type": "display_data"
    }
   ],
   "source": [
    "sns.boxenplot(x=\"num_mixtures\", y=\"imagined_fireballs\", data=error_dataframes)\n",
    "sns.despine()"
   ]
  },
  {
   "cell_type": "code",
   "execution_count": 37,
   "metadata": {},
   "outputs": [
    {
     "data": {
      "image/png": "[encoded data removed]",
      "text/plain": [
       "<Figure size 432x288 with 1 Axes>"
      ]
     },
     "metadata": {
      "needs_background": "light"
     },
     "output_type": "display_data"
    }
   ],
   "source": [
    "sns.boxenplot(x=\"num_mixtures\", y=\"imagined_monsters\", data=error_dataframes)\n",
    "sns.despine()"
   ]
  },
  {
   "cell_type": "code",
   "execution_count": 38,
   "metadata": {},
   "outputs": [
    {
     "data": {
      "image/png": "[encoded data removed]",
      "text/plain": [
       "<Figure size 432x288 with 1 Axes>"
      ]
     },
     "metadata": {
      "needs_background": "light"
     },
     "output_type": "display_data"
    }
   ],
   "source": [
    "sns.boxenplot(x=\"num_mixtures\", y=\"missing_monsters\", data=error_dataframes)\n",
    "sns.despine() #TODO Seems to be no disadvantage to being creative here - 16 gives low errors. Maybe if I let it dream for more frames?"
   ]
  },
  {
   "cell_type": "code",
   "execution_count": 39,
   "metadata": {},
   "outputs": [
    {
     "data": {
      "image/png": "[encoded data removed]",
      "text/plain": [
       "<Figure size 432x288 with 1 Axes>"
      ]
     },
     "metadata": {
      "needs_background": "light"
     },
     "output_type": "display_data"
    }
   ],
   "source": [
    "sns.boxenplot(x=\"num_mixtures\", y=\"missing_fireballs\", data=error_dataframes)\n",
    "sns.despine()"
   ]
  },
  {
   "cell_type": "code",
   "execution_count": null,
   "metadata": {},
   "outputs": [],
   "source": [
    "#Plotting monsters per episode\n",
    "#print(sns.load)\n",
    "monsters_data=[]\n",
    "for error_dataframes\n",
    "monsters_data = np.array([m1, m4, m8, m16])\n",
    "monsters_data = pd.DataFrame(monsters_data.T)\n",
    "monsters_data.columns = ['1', '4', '8', '16']\n",
    "\n",
    "sns.boxenplot(data=monsters_data, palette='Blues')\n",
    "sns.despine()\n",
    "#plt.show()\n",
    "\n",
    "boxplot_data.describe()"
   ]
  },
  {
   "cell_type": "code",
   "execution_count": null,
   "metadata": {},
   "outputs": [],
   "source": [
    "#Statistical test\n",
    "from scipy.stats import mannwhitneyu\n",
    "print(\"statistical difference in fireballs with 1 vs 4 mixtures\")\n",
    "print(mannwhitneyu(fb1, fb4))\n",
    "print(\"statistical difference in fireballs with 4 vs 16 mixtures\")\n",
    "print(mannwhitneyu(fb4, fb16))"
   ]
  },
  {
   "cell_type": "code",
   "execution_count": null,
   "metadata": {},
   "outputs": [],
   "source": [
    "#Missing fireballs\n",
    "missing_fireballs_data = np.array([mf1, mf4, mf8, mf16])\n",
    "missing_fireballs_data = pd.DataFrame(missing_fireballs_data.T)\n",
    "missing_fireballs_data.columns = ['1', '4', '8', '16']\n",
    "sns.boxenplot(data=missing_fireballs_data)\n"
   ]
  },
  {
   "cell_type": "code",
   "execution_count": null,
   "metadata": {},
   "outputs": [],
   "source": [
    "#Imagined fireballs\n",
    "imagined_fireballs_data = np.array([if1, if4, if8, if16])\n",
    "imagined_fireballs_data = pd.DataFrame(imagined_fireballs_data.T)\n",
    "imagined_fireballs_data.columns = ['1', '4', '8', '16']\n",
    "sns.boxenplot(data=imagined_fireballs_data)"
   ]
  },
  {
   "cell_type": "code",
   "execution_count": null,
   "metadata": {},
   "outputs": [],
   "source": [
    "#Total prediction errors\n",
    "prediction_errors = np.array([errors1, errors4, errors8, errors16])\n",
    "prediction_errors_data = pd.DataFrame(prediction_errors.T)\n",
    "prediction_errors_data.columns = ['1', '4', '8', '16']\n",
    "sns.boxenplot(data=prediction_errors_data)"
   ]
  },
  {
   "cell_type": "code",
   "execution_count": null,
   "metadata": {},
   "outputs": [],
   "source": [
    "#Making a \"pareto plot\" of creativity vs precision\n",
    "#TODO Change my measurements, to measure these two on the same rollouts.\n",
    "#TODO Each datapoint should represent a single model - I need to run multiple trainings of each model.\n",
    "creativity_precision_data=[] #Tuples (treatment, creativity, precision)\n",
    "all_precision_data = [errors1, errors4, errors8, errors16] #TODO Replace with more complete data\n",
    "all_creativity_data = [fb1, fb4, fb8, fb16]\n",
    "creativity_prediction_data_summed=[]\n",
    "for treatment_counter in range(len(all_precision_data)):\n",
    "    treatment_precision = all_precision_data[treatment_counter]\n",
    "    treatment_creativity = all_creativity_data[treatment_counter]\n",
    "    current_treatment_summed=[0, 0]\n",
    "    for i in range(len(treatment_precision)):\n",
    "        creativity_precision_data.append([\"Treatment\"+str(treatment_counter), treatment_precision[i], treatment_creativity[i]])\n",
    "        current_treatment_summed[0]=current_treatment_summed[0]+treatment_precision[i]\n",
    "        current_treatment_summed[1]=current_treatment_summed[1]+treatment_creativity[i]\n",
    "    creativity_prediction_data_summed.append(current_treatment_summed)\n",
    "print(creativity_precision_data)"
   ]
  },
  {
   "cell_type": "code",
   "execution_count": null,
   "metadata": {},
   "outputs": [],
   "source": [
    "#TODO May become quite interesting with more data points.\n",
    "creativity_precision_data_summed = np.array(creativity_precision_data_summed)\n",
    "print(creativity_precision_data_summed)\n",
    "creativity_precision_dataframe = pd.DataFrame({\"Treatment\":[\"1\",\"4\",\"8\",\"16\"],\n",
    "                                               \"precision-error\":creativity_precision_data_summed[:,0],\n",
    "                                               \"creativity\":creativity_precision_data_summed[:,1]})\n",
    "sns.scatterplot(x=\"precision-error\", y=\"creativity\", data=creativity_precision_dataframe, style=\"Treatment\")"
   ]
  },
  {
   "cell_type": "code",
   "execution_count": null,
   "metadata": {},
   "outputs": [],
   "source": [
    "\n",
    "creativity_precision_data=np.array(creativity_precision_data)\n",
    "creativity_precision_dataframe = pd.DataFrame({\"Treatment\":creativity_precision_data[:,0],\n",
    "                                               \"precision-error\":creativity_precision_data[:,1],\n",
    "                                               \"creativity\":creativity_precision_data[:,2]})\n",
    "creativity_precision_dataframe = creativity_precision_dataframe.apply(pd.to_numeric, errors='ignore')\n",
    "print(creativity_precision_dataframe.dtypes)\n",
    "print(creativity_precision_dataframe)\n",
    "sns.scatterplot(x=\"creativity\", y=\"precision-error\", data=creativity_precision_dataframe, style=\"Treatment\")"
   ]
  },
  {
   "cell_type": "code",
   "execution_count": null,
   "metadata": {},
   "outputs": [],
   "source": [
    "tips = sns.load_dataset(\"tips\")\n",
    "print(tips)\n",
    "sns.scatterplot(x=\"tip\", y=\"total_bill\", data=tips)"
   ]
  },
  {
   "cell_type": "code",
   "execution_count": null,
   "metadata": {},
   "outputs": [],
   "source": []
  }
 ],
 "metadata": {
  "kernelspec": {
   "display_name": "world_models_new",
   "language": "python",
   "name": "world_models_new"
  },
  "language_info": {
   "codemirror_mode": {
    "name": "ipython",
    "version": 3
   },
   "file_extension": ".py",
   "mimetype": "text/x-python",
   "name": "python",
   "nbconvert_exporter": "python",
   "pygments_lexer": "ipython3",
   "version": "3.6.6"
  }
 },
 "nbformat": 4,
 "nbformat_minor": 2
}

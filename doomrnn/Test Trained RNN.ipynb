{
 "cells": [
  {
   "cell_type": "code",
   "execution_count": 2,
   "metadata": {},
   "outputs": [
    {
     "name": "stdout",
     "output_type": "stream",
     "text": [
      "/home/kaiolae/code/word_models_keras_test/WorldModels_hardmaru\n"
     ]
    }
   ],
   "source": [
    "import analyze_rnn_predictions\n",
    "%load_ext autoreload\n",
    "%autoreload 2 #If we want to automatically load external modules as they are updated.\n",
    "#TODO insert the code limiting GPU-usage."
   ]
  },
  {
   "cell_type": "code",
   "execution_count": 3,
   "metadata": {},
   "outputs": [],
   "source": [
    "#To access gym\n",
    "import sys\n",
    "sys.path.append('/home/kaiolae/.virtualenvs/worldmodels/lib/python3.5/site-packages')\n",
    "import os"
   ]
  },
  {
   "cell_type": "code",
   "execution_count": 4,
   "metadata": {},
   "outputs": [
    {
     "name": "stdout",
     "output_type": "stream",
     "text": [
      "{1: ['run5_1mixtures', 'run2_1mixtures', 'run7_1mixtures', 'run8_1mixtures', 'run9_1mixtures', 'run1_1mixtures', 'run4_1mixtures', 'run3_1mixtures', 'run6_1mixtures'], 2: ['run3_2mixtures', 'run9_2mixtures', 'run7_2mixtures', 'run6_2mixtures', 'run8_2mixtures', 'run2_2mixtures', 'run5_2mixtures', 'run1_2mixtures', 'run4_2mixtures'], 4: ['run3_4mixtures', 'run6_4mixtures', 'run8_4mixtures', 'run7_4mixtures', 'run2_4mixtures', 'run9_4mixtures', 'run5_4mixtures', 'run4_4mixtures', 'run1_4mixtures'], 8: ['run9_8mixtures', 'run4_8mixtures', 'run2_8mixtures', 'run1_8mixtures', 'run6_8mixtures', 'run3_8mixtures', 'run8_8mixtures', 'run7_8mixtures', 'run5_8mixtures'], 16: ['run1_16mixtures', 'run3_16mixtures', 'run8_16mixtures', 'run4_16mixtures', 'run2_16mixtures', 'run6_16mixtures', 'run5_16mixtures', 'run9_16mixtures', 'run7_16mixtures']}\n"
     ]
    }
   ],
   "source": [
    "import fnmatch\n",
    "def get_all_models():\n",
    "    all_models = {} #Dict of all models, with num mixtures as key\n",
    "    for folder in os.listdir('.'):\n",
    "        if fnmatch.fnmatch(folder, 'run?_*mixtures') :\n",
    "            mixtures_start_index = folder.find('_')+1\n",
    "            mixtures_end_index = folder.find('mixtures')\n",
    "            num_mixtures = int(folder[mixtures_start_index:mixtures_end_index])\n",
    "            if num_mixtures in all_models.keys():\n",
    "                all_models[num_mixtures].append(folder)\n",
    "            else:\n",
    "                all_models[num_mixtures] = [folder]\n",
    "            \n",
    "    return all_models\n",
    "            \n",
    "print(get_all_models())"
   ]
  },
  {
   "cell_type": "code",
   "execution_count": 5,
   "metadata": {},
   "outputs": [],
   "source": [
    "import matplotlib.pyplot as plt\n",
    "from matplotlib import animation\n",
    "from IPython.display import display, HTML\n",
    "\n",
    "\n",
    "def plot_movie_mp4(image_array):\n",
    "    dpi = 2.0\n",
    "    xpixels, ypixels = image_array[0].shape[0], image_array[0].shape[1]\n",
    "    fig = plt.figure(figsize=(ypixels/dpi, xpixels/dpi), dpi=dpi)\n",
    "    #fig = plt.figure(figsize=(1,1), dpi=dpi)\n",
    "    im = plt.figimage(image_array[0])\n",
    "\n",
    "    def animate(i):\n",
    "        im.set_array(image_array[i])\n",
    "        return (im,)\n",
    "\n",
    "    anim = animation.FuncAnimation(fig, animate, frames=len(image_array))\n",
    "    display(HTML(anim.to_html5_video()))"
   ]
  },
  {
   "cell_type": "code",
   "execution_count": 14,
   "metadata": {},
   "outputs": [
    {
     "name": "stdout",
     "output_type": "stream",
     "text": [
      "Loading model:  run5_1mixtures\n",
      "INFO:tensorflow:Model using cpu.\n",
      "model using cpu\n",
      "input dropout mode = False\n",
      "output dropout mode = False\n",
      "recurrent dropout mode = False\n",
      "Loading model:  run2_1mixtures\n",
      "INFO:tensorflow:Model using cpu.\n",
      "model using cpu\n",
      "input dropout mode = False\n",
      "output dropout mode = False\n",
      "recurrent dropout mode = False\n",
      "Loading model:  run7_1mixtures\n",
      "INFO:tensorflow:Model using cpu.\n",
      "model using cpu\n",
      "input dropout mode = False\n",
      "output dropout mode = False\n",
      "recurrent dropout mode = False\n",
      "Loading model:  run8_1mixtures\n",
      "INFO:tensorflow:Model using cpu.\n",
      "model using cpu\n",
      "input dropout mode = False\n",
      "output dropout mode = False\n",
      "recurrent dropout mode = False\n",
      "Loading model:  run9_1mixtures\n",
      "INFO:tensorflow:Model using cpu.\n",
      "model using cpu\n",
      "input dropout mode = False\n",
      "output dropout mode = False\n",
      "recurrent dropout mode = False\n",
      "Loading model:  run1_1mixtures\n",
      "INFO:tensorflow:Model using cpu.\n",
      "model using cpu\n",
      "input dropout mode = False\n",
      "output dropout mode = False\n",
      "recurrent dropout mode = False\n",
      "Loading model:  run4_1mixtures\n",
      "INFO:tensorflow:Model using cpu.\n",
      "model using cpu\n",
      "input dropout mode = False\n",
      "output dropout mode = False\n",
      "recurrent dropout mode = False\n",
      "Loading model:  run3_1mixtures\n",
      "INFO:tensorflow:Model using cpu.\n",
      "model using cpu\n",
      "input dropout mode = False\n",
      "output dropout mode = False\n",
      "recurrent dropout mode = False\n",
      "Loading model:  run6_1mixtures\n",
      "INFO:tensorflow:Model using cpu.\n",
      "model using cpu\n",
      "input dropout mode = False\n",
      "output dropout mode = False\n",
      "recurrent dropout mode = False\n",
      "Loading model:  run3_2mixtures\n",
      "INFO:tensorflow:Model using cpu.\n",
      "model using cpu\n",
      "input dropout mode = False\n",
      "output dropout mode = False\n",
      "recurrent dropout mode = False\n",
      "Loading model:  run9_2mixtures\n",
      "INFO:tensorflow:Model using cpu.\n",
      "model using cpu\n",
      "input dropout mode = False\n",
      "output dropout mode = False\n",
      "recurrent dropout mode = False\n",
      "Loading model:  run7_2mixtures\n",
      "INFO:tensorflow:Model using cpu.\n",
      "model using cpu\n",
      "input dropout mode = False\n",
      "output dropout mode = False\n",
      "recurrent dropout mode = False\n",
      "Loading model:  run6_2mixtures\n",
      "INFO:tensorflow:Model using cpu.\n",
      "model using cpu\n",
      "input dropout mode = False\n",
      "output dropout mode = False\n",
      "recurrent dropout mode = False\n",
      "Loading model:  run8_2mixtures\n",
      "INFO:tensorflow:Model using cpu.\n",
      "model using cpu\n",
      "input dropout mode = False\n",
      "output dropout mode = False\n",
      "recurrent dropout mode = False\n",
      "Loading model:  run2_2mixtures\n",
      "INFO:tensorflow:Model using cpu.\n",
      "model using cpu\n",
      "input dropout mode = False\n",
      "output dropout mode = False\n",
      "recurrent dropout mode = False\n",
      "Loading model:  run5_2mixtures\n",
      "INFO:tensorflow:Model using cpu.\n",
      "model using cpu\n",
      "input dropout mode = False\n",
      "output dropout mode = False\n",
      "recurrent dropout mode = False\n",
      "Loading model:  run1_2mixtures\n",
      "INFO:tensorflow:Model using cpu.\n",
      "model using cpu\n",
      "input dropout mode = False\n",
      "output dropout mode = False\n",
      "recurrent dropout mode = False\n",
      "Loading model:  run4_2mixtures\n",
      "INFO:tensorflow:Model using cpu.\n",
      "model using cpu\n",
      "input dropout mode = False\n",
      "output dropout mode = False\n",
      "recurrent dropout mode = False\n",
      "Loading model:  run3_4mixtures\n",
      "INFO:tensorflow:Model using cpu.\n",
      "model using cpu\n",
      "input dropout mode = False\n",
      "output dropout mode = False\n",
      "recurrent dropout mode = False\n",
      "Loading model:  run6_4mixtures\n",
      "INFO:tensorflow:Model using cpu.\n",
      "model using cpu\n",
      "input dropout mode = False\n",
      "output dropout mode = False\n",
      "recurrent dropout mode = False\n",
      "Loading model:  run8_4mixtures\n",
      "INFO:tensorflow:Model using cpu.\n",
      "model using cpu\n",
      "input dropout mode = False\n",
      "output dropout mode = False\n",
      "recurrent dropout mode = False\n",
      "Loading model:  run7_4mixtures\n",
      "INFO:tensorflow:Model using cpu.\n",
      "model using cpu\n",
      "input dropout mode = False\n",
      "output dropout mode = False\n",
      "recurrent dropout mode = False\n",
      "Loading model:  run2_4mixtures\n",
      "INFO:tensorflow:Model using cpu.\n",
      "model using cpu\n",
      "input dropout mode = False\n",
      "output dropout mode = False\n",
      "recurrent dropout mode = False\n",
      "Loading model:  run9_4mixtures\n",
      "INFO:tensorflow:Model using cpu.\n",
      "model using cpu\n",
      "input dropout mode = False\n",
      "output dropout mode = False\n",
      "recurrent dropout mode = False\n",
      "Loading model:  run5_4mixtures\n",
      "INFO:tensorflow:Model using cpu.\n",
      "model using cpu\n",
      "input dropout mode = False\n",
      "output dropout mode = False\n",
      "recurrent dropout mode = False\n",
      "Loading model:  run4_4mixtures\n",
      "INFO:tensorflow:Model using cpu.\n",
      "model using cpu\n",
      "input dropout mode = False\n",
      "output dropout mode = False\n",
      "recurrent dropout mode = False\n",
      "Loading model:  run1_4mixtures\n",
      "INFO:tensorflow:Model using cpu.\n",
      "model using cpu\n",
      "input dropout mode = False\n",
      "output dropout mode = False\n",
      "recurrent dropout mode = False\n",
      "Loading model:  run9_8mixtures\n",
      "INFO:tensorflow:Model using cpu.\n",
      "model using cpu\n",
      "input dropout mode = False\n",
      "output dropout mode = False\n",
      "recurrent dropout mode = False\n",
      "Loading model:  run4_8mixtures\n",
      "INFO:tensorflow:Model using cpu.\n",
      "model using cpu\n",
      "input dropout mode = False\n",
      "output dropout mode = False\n",
      "recurrent dropout mode = False\n",
      "Loading model:  run2_8mixtures\n",
      "INFO:tensorflow:Model using cpu.\n",
      "model using cpu\n",
      "input dropout mode = False\n",
      "output dropout mode = False\n",
      "recurrent dropout mode = False\n",
      "Loading model:  run1_8mixtures\n",
      "INFO:tensorflow:Model using cpu.\n",
      "model using cpu\n",
      "input dropout mode = False\n",
      "output dropout mode = False\n",
      "recurrent dropout mode = False\n",
      "Loading model:  run6_8mixtures\n",
      "INFO:tensorflow:Model using cpu.\n",
      "model using cpu\n",
      "input dropout mode = False\n",
      "output dropout mode = False\n",
      "recurrent dropout mode = False\n",
      "Loading model:  run3_8mixtures\n",
      "INFO:tensorflow:Model using cpu.\n",
      "model using cpu\n",
      "input dropout mode = False\n",
      "output dropout mode = False\n",
      "recurrent dropout mode = False\n",
      "Loading model:  run8_8mixtures\n",
      "INFO:tensorflow:Model using cpu.\n",
      "model using cpu\n",
      "input dropout mode = False\n",
      "output dropout mode = False\n",
      "recurrent dropout mode = False\n",
      "Loading model:  run7_8mixtures\n",
      "INFO:tensorflow:Model using cpu.\n",
      "model using cpu\n",
      "input dropout mode = False\n",
      "output dropout mode = False\n",
      "recurrent dropout mode = False\n",
      "Loading model:  run5_8mixtures\n",
      "INFO:tensorflow:Model using cpu.\n",
      "model using cpu\n",
      "input dropout mode = False\n",
      "output dropout mode = False\n",
      "recurrent dropout mode = False\n",
      "Loading model:  run1_16mixtures\n",
      "INFO:tensorflow:Model using cpu.\n",
      "model using cpu\n",
      "input dropout mode = False\n",
      "output dropout mode = False\n",
      "recurrent dropout mode = False\n",
      "Loading model:  run3_16mixtures\n",
      "INFO:tensorflow:Model using cpu.\n",
      "model using cpu\n",
      "input dropout mode = False\n",
      "output dropout mode = False\n",
      "recurrent dropout mode = False\n",
      "Loading model:  run8_16mixtures\n",
      "INFO:tensorflow:Model using cpu.\n",
      "model using cpu\n",
      "input dropout mode = False\n",
      "output dropout mode = False\n",
      "recurrent dropout mode = False\n",
      "Loading model:  run4_16mixtures\n",
      "INFO:tensorflow:Model using cpu.\n",
      "model using cpu\n",
      "input dropout mode = False\n",
      "output dropout mode = False\n",
      "recurrent dropout mode = False\n",
      "Loading model:  run2_16mixtures\n",
      "INFO:tensorflow:Model using cpu.\n",
      "model using cpu\n",
      "input dropout mode = False\n",
      "output dropout mode = False\n",
      "recurrent dropout mode = False\n",
      "Loading model:  run6_16mixtures\n",
      "INFO:tensorflow:Model using cpu.\n",
      "model using cpu\n",
      "input dropout mode = False\n",
      "output dropout mode = False\n",
      "recurrent dropout mode = False\n",
      "Loading model:  run5_16mixtures\n",
      "INFO:tensorflow:Model using cpu.\n",
      "model using cpu\n",
      "input dropout mode = False\n",
      "output dropout mode = False\n",
      "recurrent dropout mode = False\n",
      "Loading model:  run9_16mixtures\n",
      "INFO:tensorflow:Model using cpu.\n",
      "model using cpu\n",
      "input dropout mode = False\n",
      "output dropout mode = False\n",
      "recurrent dropout mode = False\n",
      "Loading model:  run7_16mixtures\n",
      "INFO:tensorflow:Model using cpu.\n",
      "model using cpu\n",
      "input dropout mode = False\n",
      "output dropout mode = False\n",
      "recurrent dropout mode = False\n"
     ]
    }
   ],
   "source": [
    "from collections import namedtuple\n",
    "\n",
    "rnn_analyzers = {}\n",
    "for key, val in get_all_models().items():\n",
    "    rnn_analyzers[key] = []\n",
    "    for model in val:\n",
    "        if \"run13\" in model:\n",
    "            continue #TODO To avoid an inclomplete run. TODO remove.\n",
    "        print(\"Loading model: \", model)\n",
    "        new_analyzer = analyze_rnn_predictions.RNNAnalyzer(model, key, 0.5) #TODO Note, I previously used temp=0.1 - Which Ha noted was so low that we got mode collapse.\n",
    "        rnn_analyzers[key].append(new_analyzer)"
   ]
  },
  {
   "cell_type": "code",
   "execution_count": 10,
   "metadata": {},
   "outputs": [
    {
     "name": "stdout",
     "output_type": "stream",
     "text": [
      "Actions length:  177\n",
      "Latent vectors length:  177\n"
     ]
    }
   ],
   "source": [
    "#Get a start video\n",
    "#Getting data to feed into the VAE and RNN\n",
    "import numpy as np\n",
    "import os\n",
    "# load preprocessed data\n",
    "raw_data = np.load(os.path.join(\"series\", \"series.npz\"))\n",
    "raw_data_mu = raw_data[\"mu\"]\n",
    "raw_data_logvar = raw_data[\"logvar\"]\n",
    "raw_data_action =  raw_data[\"action\"]\n",
    "\n",
    "single_action_sequence = raw_data_action[16]\n",
    "single_latent_sequence = raw_data_mu[16]\n",
    "print(\"Actions length: \", len(single_action_sequence))\n",
    "print(\"Latent vectors length: \", len(single_latent_sequence))\n",
    "num_frames = len(single_latent_sequence)\n",
    "\n",
    "\n",
    "\n",
    "#Decode all 100 vectors, store as video\n",
    "#Visualize video."
   ]
  },
  {
   "cell_type": "code",
   "execution_count": null,
   "metadata": {},
   "outputs": [],
   "source": [
    "#Decode a sequence with the VAE and visualize it\n",
    "def decode_and_visualize(latent_vector_sequence, rnn_analyzer):\n",
    "    plot_movie_mp4(rnn_analyzer.decode_with_vae(latent_vector_sequence))"
   ]
  },
  {
   "cell_type": "markdown",
   "metadata": {},
   "source": [
    "### Visualizing one sequence of latent vectors from the training data"
   ]
  },
  {
   "cell_type": "code",
   "execution_count": null,
   "metadata": {},
   "outputs": [],
   "source": [
    "#From the actual sampled images. All loss here is due to VAE.\n",
    "decode_and_visualize(single_latent_sequence, rnn1_analyzer)"
   ]
  },
  {
   "cell_type": "code",
   "execution_count": null,
   "metadata": {},
   "outputs": [],
   "source": [
    "#Generating a dream.\n",
    "action = 0 #Consider random action. Or, when predicting step by step, use the actual action\n",
    "dreamed_zs1 = []\n",
    "dreamed_z = rnn1_analyzer.predict_one_step(action, previous_z=single_latent_sequence[0])\n",
    "dreamed_zs1.append(dreamed_z)\n",
    "for i in range(100):\n",
    "    dreamed_zs1.append(rnn1_analyzer.predict_one_step(action))\n",
    "    "
   ]
  },
  {
   "cell_type": "code",
   "execution_count": null,
   "metadata": {},
   "outputs": [],
   "source": [
    "#Visualizing the dream\n",
    "decode_and_visualize(dreamed_zs1, rnn1_analyzer)"
   ]
  },
  {
   "cell_type": "code",
   "execution_count": null,
   "metadata": {},
   "outputs": [],
   "source": [
    "#Generating a dream with 16 mixtures\n",
    "action = 0 #Consider random action. Or, when predicting step by step, use the actual action\n",
    "dreamed_zs16 = []\n",
    "dreamed_z = rnn16_analyzer.predict_one_step(action, previous_z=single_latent_sequence[0])\n",
    "dreamed_zs16.append(dreamed_z)\n",
    "for i in range(100):\n",
    "    dreamed_zs16.append(rnn16_analyzer.predict_one_step(action))\n",
    "#Visualizing the dream\n",
    "decode_and_visualize(dreamed_zs16, rnn16_analyzer)"
   ]
  },
  {
   "cell_type": "markdown",
   "metadata": {},
   "source": [
    "# "
   ]
  },
  {
   "cell_type": "code",
   "execution_count": 15,
   "metadata": {
    "scrolled": false
   },
   "outputs": [
    {
     "name": "stdout",
     "output_type": "stream",
     "text": [
      "0\n",
      "analyzing  <analyze_rnn_predictions.RNNAnalyzer object at 0x7fc512fc20b8>\n",
      "analyzing  <analyze_rnn_predictions.RNNAnalyzer object at 0x7fc4cb0c5160>\n",
      "analyzing  <analyze_rnn_predictions.RNNAnalyzer object at 0x7fc4c61d2400>\n",
      "analyzing  <analyze_rnn_predictions.RNNAnalyzer object at 0x7fc4c14a2160>\n",
      "analyzing  <analyze_rnn_predictions.RNNAnalyzer object at 0x7fc4bc34c278>\n",
      "analyzing  <analyze_rnn_predictions.RNNAnalyzer object at 0x7fc4b72d9be0>\n",
      "analyzing  <analyze_rnn_predictions.RNNAnalyzer object at 0x7fc4b1d69400>\n",
      "analyzing  <analyze_rnn_predictions.RNNAnalyzer object at 0x7fc4afe38160>\n",
      "analyzing  <analyze_rnn_predictions.RNNAnalyzer object at 0x7fc4df3e0dd8>\n",
      "analyzing  <analyze_rnn_predictions.RNNAnalyzer object at 0x7fc4ebfd9dd8>\n",
      "analyzing  <analyze_rnn_predictions.RNNAnalyzer object at 0x7fc625c8e208>\n",
      "analyzing  <analyze_rnn_predictions.RNNAnalyzer object at 0x7fc72186ceb8>\n",
      "analyzing  <analyze_rnn_predictions.RNNAnalyzer object at 0x7fc5717d90b8>\n",
      "analyzing  <analyze_rnn_predictions.RNNAnalyzer object at 0x7fc5f644efd0>\n",
      "analyzing  <analyze_rnn_predictions.RNNAnalyzer object at 0x7fc5ea2fbe10>\n",
      "analyzing  <analyze_rnn_predictions.RNNAnalyzer object at 0x7fc578c15358>\n",
      "analyzing  <analyze_rnn_predictions.RNNAnalyzer object at 0x7fc5717072e8>\n",
      "analyzing  <analyze_rnn_predictions.RNNAnalyzer object at 0x7fc61bf44080>\n",
      "analyzing  <analyze_rnn_predictions.RNNAnalyzer object at 0x7fc618696160>\n",
      "analyzing  <analyze_rnn_predictions.RNNAnalyzer object at 0x7fc5aab6b0f0>\n",
      "analyzing  <analyze_rnn_predictions.RNNAnalyzer object at 0x7fc5854c40b8>\n",
      "analyzing  <analyze_rnn_predictions.RNNAnalyzer object at 0x7fc64f7a2f98>\n",
      "analyzing  <analyze_rnn_predictions.RNNAnalyzer object at 0x7fc55d3cbf28>\n",
      "analyzing  <analyze_rnn_predictions.RNNAnalyzer object at 0x7fc5b76b0518>\n",
      "analyzing  <analyze_rnn_predictions.RNNAnalyzer object at 0x7fc7214a6630>\n",
      "analyzing  <analyze_rnn_predictions.RNNAnalyzer object at 0x7fc61aab55c0>\n",
      "analyzing  <analyze_rnn_predictions.RNNAnalyzer object at 0x7fc593de3e10>\n",
      "analyzing  <analyze_rnn_predictions.RNNAnalyzer object at 0x7fc5c10ce4e0>\n",
      "analyzing  <analyze_rnn_predictions.RNNAnalyzer object at 0x7fc5d196d470>\n",
      "analyzing  <analyze_rnn_predictions.RNNAnalyzer object at 0x7fc56ab03048>\n",
      "analyzing  <analyze_rnn_predictions.RNNAnalyzer object at 0x7fc6268c2390>\n",
      "analyzing  <analyze_rnn_predictions.RNNAnalyzer object at 0x7fc60f404320>\n",
      "analyzing  <analyze_rnn_predictions.RNNAnalyzer object at 0x7fc4f927c2b0>\n",
      "analyzing  <analyze_rnn_predictions.RNNAnalyzer object at 0x7fc5c11d5240>\n",
      "analyzing  <analyze_rnn_predictions.RNNAnalyzer object at 0x7fc5f65951d0>\n",
      "analyzing  <analyze_rnn_predictions.RNNAnalyzer object at 0x7fc62457f160>\n",
      "analyzing  <analyze_rnn_predictions.RNNAnalyzer object at 0x7fc64f6610f0>\n",
      "analyzing  <analyze_rnn_predictions.RNNAnalyzer object at 0x7fc59007c080>\n",
      "analyzing  <analyze_rnn_predictions.RNNAnalyzer object at 0x7fc65720b550>\n",
      "analyzing  <analyze_rnn_predictions.RNNAnalyzer object at 0x7fc643214518>\n",
      "analyzing  <analyze_rnn_predictions.RNNAnalyzer object at 0x7fc6381dd470>\n",
      "analyzing  <analyze_rnn_predictions.RNNAnalyzer object at 0x7fc625d2d400>\n",
      "analyzing  <analyze_rnn_predictions.RNNAnalyzer object at 0x7fc60cc34390>\n",
      "analyzing  <analyze_rnn_predictions.RNNAnalyzer object at 0x7fc5e9cfe320>\n",
      "analyzing  <analyze_rnn_predictions.RNNAnalyzer object at 0x7fc5de7ca2b0>\n",
      "    fireball_delta  monster_delta  num_fireballs  num_mixtures  num_monsters\n",
      "0              653           1176           1573             1          3762\n",
      "1               71            677            763             1          3478\n",
      "2                0            466              0             1          3771\n",
      "3              274            931            114             1          3949\n",
      "4                0            510              0             1          3901\n",
      "5                0            523              0             1          3686\n",
      "6              146            845             63             1          3705\n",
      "7                0            438              0             1          3873\n",
      "8              793           1115            285             1          4693\n",
      "9               99            766            739             2          3858\n",
      "10              96            927            466             2          3814\n",
      "11              16            370            244             2          3521\n",
      "12               2            223              0             2          3438\n",
      "13              28            679              1             2          3898\n",
      "14               0            307              0             2          3668\n",
      "15               0            378              0             2          3868\n",
      "16              79           1175            102             2          4113\n",
      "17             152            971            675             2          3840\n",
      "18               0            403              3             4          4000\n",
      "19              12            849             27             4          3266\n",
      "20              67            520             47             4          3680\n",
      "21              60            658             55             4          3931\n",
      "22               0            513            147             4          3861\n",
      "23             139            731            327             4          3691\n",
      "24               0            457              0             4          3908\n",
      "25              45            580             15             4          3619\n",
      "26               0            289              0             4          3438\n",
      "27               0            491              0             8          3720\n",
      "28             187           1057            376             8          3782\n",
      "29              64            762            144             8          3772\n",
      "30             130            837            640             8          4354\n",
      "31               0            398              6             8          3944\n",
      "32             108            836            421             8          4657\n",
      "33               0            145              0             8          3224\n",
      "34             350           1106           1090             8          4622\n",
      "35             100            716            844             8          4656\n",
      "36             125            726           7475            16          4274\n",
      "37               0            553              0            16          3696\n",
      "38               0            236              0            16          3822\n",
      "39              30           1051            564            16          4557\n",
      "40             125            920            730            16          4009\n",
      "41             106            867            660            16          4770\n",
      "42               0            328              1            16          3389\n",
      "43             136           1084            903            16          4329\n",
      "44               0            445              0            16          3939\n"
     ]
    }
   ],
   "source": [
    "#TODO Without reset, I got the expected result. But with reset, differences between RNNs disappear.\n",
    "#Do differences for some reason only appear after a (large) number of iterations??\n",
    "#One solution might be to run 1000 timesteps, to ensure we get into the internal state that\n",
    "#exposes differences.\n",
    "#Also, randomizing initial_z could help.\n",
    "#Yes, longer sequences seemed to work.\n",
    "\n",
    "#TODO A better measure of creativity is differences between consecutive frames. Did a ball appear/disappear, etc?\n",
    "#Test plotting that with \"fireball_delta\"/monster_delta\n",
    "\n",
    "import pandas as pd\n",
    "from test_creativity_stability import count_events_on_trained_rnn, count_appearances_and_disappearances\n",
    "#Comparing performance of different models\n",
    "initial_z = single_latent_sequence[0]\n",
    "EPISODE_LENGTHS = 1000\n",
    "zero_actions = [0 for i in range(EPISODE_LENGTHS)]\n",
    "\n",
    "#TODO These should both instead reflect the difference from initial_z, since we want to\n",
    "#measure creativity.\n",
    "\n",
    "#Collecting data for all treatments\n",
    "dream_data = []\n",
    "NUM_STATISTICAL_TESTS = 1\n",
    "\n",
    "for i in range(NUM_STATISTICAL_TESTS):\n",
    "    print(i)\n",
    "    for num_mixtures, rnn_model_list in rnn_analyzers.items():\n",
    "        for rnn_model in rnn_model_list:\n",
    "            print(\"analyzing \", rnn_model)            \n",
    "            rnn_model._reset(initial_z)\n",
    "            e = count_events_on_trained_rnn(rnn_model.vae, rnn_model, initial_z, zero_actions, EPISODE_LENGTHS)\n",
    "            d = count_appearances_and_disappearances(rnn_model.vae, rnn_model, initial_z, zero_actions, EPISODE_LENGTHS)\n",
    "            combined_dict = {**e, **d}\n",
    "            combined_dict[\"num_mixtures\"] = num_mixtures\n",
    "            dream_data.append(combined_dict)\n",
    "            \n",
    "#Turning dream-data entries into dataframes, one for each treatment\n",
    "dream_dataframes = pd.DataFrame(dream_data)\n",
    "print(dream_dataframes)\n",
    "\n",
    "#TODO Something is wrong in my measurement of fireballs delta. It shouldn't be possible that it's bigger than\n",
    "#num_fireballs.\n",
    "#TODO should be easy to dump to file also now.\n",
    "#At some point, I should split into a generate-and-dump script (this), and a load-and-analyze script.\n",
    "#dream_\n",
    "\n",
    "#TODO Not easy to see any clear effects of modifying number of mixtures."
   ]
  },
  {
   "cell_type": "code",
   "execution_count": null,
   "metadata": {},
   "outputs": [],
   "source": [
    "for num_mixtures in fireballs_dreamed.keys():\n",
    "    fireball_dreams = fireballs_dreamed[num_mixtures]\n",
    "    print(\"avg fireballs for \", num_mixtures, \": \", sum(fireball_dreams)/float(len(fireball_dreams)))\n",
    "    monster_dreams = monsters_dreamed[num_mixtures]"
   ]
  },
  {
   "cell_type": "code",
   "execution_count": null,
   "metadata": {},
   "outputs": [],
   "source": [
    "print(fb1)"
   ]
  },
  {
   "cell_type": "code",
   "execution_count": 29,
   "metadata": {},
   "outputs": [
    {
     "name": "stdout",
     "output_type": "stream",
     "text": [
      "(177, 64)\n",
      "(1770,)\n",
      "(1770, 64)\n",
      "Analyzing  <analyze_rnn_predictions.RNNAnalyzer object at 0x7fc512fc20b8>\n",
      "Analyzing  <analyze_rnn_predictions.RNNAnalyzer object at 0x7fc4cb0c5160>\n",
      "Analyzing  <analyze_rnn_predictions.RNNAnalyzer object at 0x7fc4c61d2400>\n",
      "Analyzing  <analyze_rnn_predictions.RNNAnalyzer object at 0x7fc4c14a2160>\n",
      "Analyzing  <analyze_rnn_predictions.RNNAnalyzer object at 0x7fc4bc34c278>\n",
      "Analyzing  <analyze_rnn_predictions.RNNAnalyzer object at 0x7fc4b72d9be0>\n",
      "Analyzing  <analyze_rnn_predictions.RNNAnalyzer object at 0x7fc4b1d69400>\n",
      "Analyzing  <analyze_rnn_predictions.RNNAnalyzer object at 0x7fc4afe38160>\n",
      "Analyzing  <analyze_rnn_predictions.RNNAnalyzer object at 0x7fc4df3e0dd8>\n",
      "Analyzing  <analyze_rnn_predictions.RNNAnalyzer object at 0x7fc4ebfd9dd8>\n",
      "Analyzing  <analyze_rnn_predictions.RNNAnalyzer object at 0x7fc625c8e208>\n",
      "Analyzing  <analyze_rnn_predictions.RNNAnalyzer object at 0x7fc72186ceb8>\n",
      "Analyzing  <analyze_rnn_predictions.RNNAnalyzer object at 0x7fc5717d90b8>\n",
      "Analyzing  <analyze_rnn_predictions.RNNAnalyzer object at 0x7fc5f644efd0>\n",
      "Analyzing  <analyze_rnn_predictions.RNNAnalyzer object at 0x7fc5ea2fbe10>\n",
      "Analyzing  <analyze_rnn_predictions.RNNAnalyzer object at 0x7fc578c15358>\n",
      "Analyzing  <analyze_rnn_predictions.RNNAnalyzer object at 0x7fc5717072e8>\n",
      "Analyzing  <analyze_rnn_predictions.RNNAnalyzer object at 0x7fc61bf44080>\n",
      "Analyzing  <analyze_rnn_predictions.RNNAnalyzer object at 0x7fc618696160>\n",
      "Analyzing  <analyze_rnn_predictions.RNNAnalyzer object at 0x7fc5aab6b0f0>\n",
      "Analyzing  <analyze_rnn_predictions.RNNAnalyzer object at 0x7fc5854c40b8>\n",
      "Analyzing  <analyze_rnn_predictions.RNNAnalyzer object at 0x7fc64f7a2f98>\n",
      "Analyzing  <analyze_rnn_predictions.RNNAnalyzer object at 0x7fc55d3cbf28>\n",
      "Analyzing  <analyze_rnn_predictions.RNNAnalyzer object at 0x7fc5b76b0518>\n",
      "Analyzing  <analyze_rnn_predictions.RNNAnalyzer object at 0x7fc7214a6630>\n",
      "Analyzing  <analyze_rnn_predictions.RNNAnalyzer object at 0x7fc61aab55c0>\n",
      "Analyzing  <analyze_rnn_predictions.RNNAnalyzer object at 0x7fc593de3e10>\n",
      "Analyzing  <analyze_rnn_predictions.RNNAnalyzer object at 0x7fc5c10ce4e0>\n",
      "Analyzing  <analyze_rnn_predictions.RNNAnalyzer object at 0x7fc5d196d470>\n",
      "Analyzing  <analyze_rnn_predictions.RNNAnalyzer object at 0x7fc56ab03048>\n",
      "Analyzing  <analyze_rnn_predictions.RNNAnalyzer object at 0x7fc6268c2390>\n",
      "Analyzing  <analyze_rnn_predictions.RNNAnalyzer object at 0x7fc60f404320>\n",
      "Analyzing  <analyze_rnn_predictions.RNNAnalyzer object at 0x7fc4f927c2b0>\n",
      "Analyzing  <analyze_rnn_predictions.RNNAnalyzer object at 0x7fc5c11d5240>\n",
      "Analyzing  <analyze_rnn_predictions.RNNAnalyzer object at 0x7fc5f65951d0>\n",
      "Analyzing  <analyze_rnn_predictions.RNNAnalyzer object at 0x7fc62457f160>\n",
      "Analyzing  <analyze_rnn_predictions.RNNAnalyzer object at 0x7fc64f6610f0>\n",
      "Analyzing  <analyze_rnn_predictions.RNNAnalyzer object at 0x7fc59007c080>\n",
      "Analyzing  <analyze_rnn_predictions.RNNAnalyzer object at 0x7fc65720b550>\n",
      "Analyzing  <analyze_rnn_predictions.RNNAnalyzer object at 0x7fc643214518>\n",
      "Analyzing  <analyze_rnn_predictions.RNNAnalyzer object at 0x7fc6381dd470>\n",
      "Analyzing  <analyze_rnn_predictions.RNNAnalyzer object at 0x7fc625d2d400>\n",
      "Analyzing  <analyze_rnn_predictions.RNNAnalyzer object at 0x7fc60cc34390>\n",
      "Analyzing  <analyze_rnn_predictions.RNNAnalyzer object at 0x7fc5e9cfe320>\n",
      "Analyzing  <analyze_rnn_predictions.RNNAnalyzer object at 0x7fc5de7ca2b0>\n",
      "    imagined_fireballs  imagined_monsters  missing_fireballs  \\\n",
      "0                   75                824                158   \n",
      "1                   71                783                192   \n",
      "2                   68                876                147   \n",
      "3                   89                909                152   \n",
      "4                   82                843                141   \n",
      "5                  101                938                158   \n",
      "6                   66                825                169   \n",
      "7                   68                842                153   \n",
      "8                   94                778                146   \n",
      "9                   78                865                147   \n",
      "10                 105                915                167   \n",
      "11                  75                855                167   \n",
      "12                  64                839                204   \n",
      "13                  74                869                172   \n",
      "14                  59                811                141   \n",
      "15                  56                850                182   \n",
      "16                  53                854                177   \n",
      "17                  67                840                173   \n",
      "18                  58                849                155   \n",
      "19                  56                846                180   \n",
      "20                  78                771                149   \n",
      "21                  99                777                136   \n",
      "22                  81                841                168   \n",
      "23                  76                800                168   \n",
      "24                  68                934                162   \n",
      "25                  66                802                170   \n",
      "26                  93                868                162   \n",
      "27                  75                897                135   \n",
      "28                  81                859                141   \n",
      "29                  66                807                151   \n",
      "30                  87                830                163   \n",
      "31                  62                908                197   \n",
      "32                  80                815                149   \n",
      "33                  85                897                152   \n",
      "34                  65                852                160   \n",
      "35                  84                929                168   \n",
      "36                  80                833                138   \n",
      "37                  75                946                159   \n",
      "38                  73                776                157   \n",
      "39                  80                773                126   \n",
      "40                  76                850                161   \n",
      "41                  59                864                145   \n",
      "42                  60                889                156   \n",
      "43                  70                959                153   \n",
      "44                  60                859                176   \n",
      "\n",
      "    missing_monsters  num_mixtures  \n",
      "0                904             1  \n",
      "1                933             1  \n",
      "2                931             1  \n",
      "3                849             1  \n",
      "4                866             1  \n",
      "5                809             1  \n",
      "6                903             1  \n",
      "7                848             1  \n",
      "8                836             1  \n",
      "9                829             2  \n",
      "10               934             2  \n",
      "11               956             2  \n",
      "12               866             2  \n",
      "13               910             2  \n",
      "14               931             2  \n",
      "15               876             2  \n",
      "16               836             2  \n",
      "17               890             2  \n",
      "18               911             4  \n",
      "19               867             4  \n",
      "20               848             4  \n",
      "21               980             4  \n",
      "22               885             4  \n",
      "23               873             4  \n",
      "24               804             4  \n",
      "25               912             4  \n",
      "26               866             4  \n",
      "27               888             8  \n",
      "28               882             8  \n",
      "29               904             8  \n",
      "30               873             8  \n",
      "31               860             8  \n",
      "32               854             8  \n",
      "33               897             8  \n",
      "34               887             8  \n",
      "35               838             8  \n",
      "36               889            16  \n",
      "37               888            16  \n",
      "38               967            16  \n",
      "39               913            16  \n",
      "40               881            16  \n",
      "41               873            16  \n",
      "42               894            16  \n",
      "43               832            16  \n",
      "44               859            16  \n"
     ]
    }
   ],
   "source": [
    "#Testing differences between real and predicted images. Rather than dreaming up many steps ahead, we here\n",
    "#Dream 1 step ahead, and compare to what actually happened. Tests stability of the prediction.\n",
    "errors = [] #With 1 entry for each model, showing its parameters and results\n",
    "initial_z = single_latent_sequence[0]\n",
    "\n",
    "NUM_STATISTICAL_TESTS = 1\n",
    "from test_creativity_stability import count_differences_between_reality_and_prediction\n",
    "\n",
    "print(single_latent_sequence.shape)\n",
    "#TODO Is this short sequence hiding differences? Making a fake long sequence by concatenating.\n",
    "extended_latent_sequence = []\n",
    "for i in range(10):\n",
    "    for latent in single_latent_sequence:\n",
    "        extended_latent_sequence.append(latent)\n",
    "extended_latent_sequence = np.array(extended_latent_sequence)\n",
    "#padded_action_sequence = np.append(single_action_sequence, 0)\n",
    "extended_actions = np.repeat(single_action_sequence, 10)\n",
    "\n",
    "print(extended_actions.shape)\n",
    "print(extended_latent_sequence.shape)\n",
    "\n",
    "for i in range(NUM_STATISTICAL_TESTS):\n",
    "    for num_mixtures, rnn_model_list in rnn_analyzers.items():\n",
    "        for rnn_model in rnn_model_list:      \n",
    "            print(\"Analyzing \", rnn_model)\n",
    "            rnn_model._reset(initial_z)\n",
    "            e = count_differences_between_reality_and_prediction(rnn_model.vae, rnn_model, extended_latent_sequence, extended_actions)\n",
    "            e['num_mixtures'] = num_mixtures\n",
    "            errors.append(e)\n",
    "            \n",
    "#Turning entries into dataframes, one for each treatment\n",
    "error_dataframes = pd.DataFrame(errors)\n",
    "print(error_dataframes)\n"
   ]
  },
  {
   "cell_type": "code",
   "execution_count": null,
   "metadata": {},
   "outputs": [],
   "source": [
    "for num_mixtures in fireballs_dreamed.keys():\n",
    "    err = errors[num_mixtures]\n",
    "    print(\"avg errors for \", num_mixtures, \": \", sum(err)/float(len(err)))\n",
    "\n",
    "#Preliminary conclusion: Many mixtures (8/16) give more creativity, being able to \"imagine\" more fireballs,\n",
    "#but also more inaccuracies, by imagining fireballs that shouldnt be there."
   ]
  },
  {
   "cell_type": "code",
   "execution_count": 26,
   "metadata": {},
   "outputs": [
    {
     "data": {
      "image/png": "[encoded data removed]",
      "text/plain": [
       "<Figure size 432x288 with 1 Axes>"
      ]
     },
     "metadata": {
      "needs_background": "light"
     },
     "output_type": "display_data"
    }
   ],
   "source": [
    "import matplotlib.pyplot as plt\n",
    "import seaborn as sns\n",
    "import pandas as pd\n",
    "#print(sns.load)\n",
    "g=sns.boxplot(x=\"num_mixtures\", y=\"num_fireballs\", data=dream_dataframes)\n",
    "g.set(ylim=(None, 1000))\n",
    "sns.despine()\n",
    "#plt.show()\n",
    "\n",
    "#Plotting fireballs per episode"
   ]
  },
  {
   "cell_type": "code",
   "execution_count": 27,
   "metadata": {},
   "outputs": [
    {
     "data": {
      "image/png": "[encoded data removed]",
      "text/plain": [
       "<Figure size 432x288 with 1 Axes>"
      ]
     },
     "metadata": {
      "needs_background": "light"
     },
     "output_type": "display_data"
    }
   ],
   "source": [
    "sns.boxenplot(x=\"num_mixtures\", y=\"fireball_delta\", data=dream_dataframes)\n",
    "sns.despine()"
   ]
  },
  {
   "cell_type": "code",
   "execution_count": 30,
   "metadata": {},
   "outputs": [
    {
     "data": {
      "image/png": "[encoded data removed]",
      "text/plain": [
       "<Figure size 432x288 with 1 Axes>"
      ]
     },
     "metadata": {
      "needs_background": "light"
     },
     "output_type": "display_data"
    }
   ],
   "source": [
    "sns.boxenplot(x=\"num_mixtures\", y=\"imagined_fireballs\", data=error_dataframes)\n",
    "sns.despine()"
   ]
  },
  {
   "cell_type": "code",
   "execution_count": 31,
   "metadata": {},
   "outputs": [
    {
     "data": {
      "image/png": "[encoded data removed]",
      "text/plain": [
       "<Figure size 432x288 with 1 Axes>"
      ]
     },
     "metadata": {
      "needs_background": "light"
     },
     "output_type": "display_data"
    }
   ],
   "source": [
    "sns.boxenplot(x=\"num_mixtures\", y=\"imagined_monsters\", data=error_dataframes)\n",
    "sns.despine()"
   ]
  },
  {
   "cell_type": "code",
   "execution_count": 32,
   "metadata": {},
   "outputs": [
    {
     "data": {
      "image/png": "[encoded data removed]",
      "text/plain": [
       "<Figure size 432x288 with 1 Axes>"
      ]
     },
     "metadata": {
      "needs_background": "light"
     },
     "output_type": "display_data"
    }
   ],
   "source": [
    "sns.boxenplot(x=\"num_mixtures\", y=\"missing_monsters\", data=error_dataframes)\n",
    "sns.despine() #TODO Seems to be no disadvantage to being creative here - 16 gives low errors. Maybe if I let it dream for more frames?"
   ]
  },
  {
   "cell_type": "code",
   "execution_count": 33,
   "metadata": {},
   "outputs": [
    {
     "data": {
      "image/png": "[encoded data removed]",
      "text/plain": [
       "<Figure size 432x288 with 1 Axes>"
      ]
     },
     "metadata": {
      "needs_background": "light"
     },
     "output_type": "display_data"
    }
   ],
   "source": [
    "sns.boxenplot(x=\"num_mixtures\", y=\"missing_fireballs\", data=error_dataframes)\n",
    "sns.despine()"
   ]
  },
  {
   "cell_type": "code",
   "execution_count": null,
   "metadata": {},
   "outputs": [],
   "source": [
    "#Plotting monsters per episode\n",
    "#print(sns.load)\n",
    "monsters_data=[]\n",
    "for error_dataframes\n",
    "monsters_data = np.array([m1, m4, m8, m16])\n",
    "monsters_data = pd.DataFrame(monsters_data.T)\n",
    "monsters_data.columns = ['1', '4', '8', '16']\n",
    "\n",
    "sns.boxenplot(data=monsters_data, palette='Blues')\n",
    "sns.despine()\n",
    "#plt.show()\n",
    "\n",
    "boxplot_data.describe()"
   ]
  },
  {
   "cell_type": "code",
   "execution_count": null,
   "metadata": {},
   "outputs": [],
   "source": [
    "#Statistical test\n",
    "from scipy.stats import mannwhitneyu\n",
    "print(\"statistical difference in fireballs with 1 vs 4 mixtures\")\n",
    "print(mannwhitneyu(fb1, fb4))\n",
    "print(\"statistical difference in fireballs with 4 vs 16 mixtures\")\n",
    "print(mannwhitneyu(fb4, fb16))"
   ]
  },
  {
   "cell_type": "code",
   "execution_count": null,
   "metadata": {},
   "outputs": [],
   "source": [
    "#Missing fireballs\n",
    "missing_fireballs_data = np.array([mf1, mf4, mf8, mf16])\n",
    "missing_fireballs_data = pd.DataFrame(missing_fireballs_data.T)\n",
    "missing_fireballs_data.columns = ['1', '4', '8', '16']\n",
    "sns.boxenplot(data=missing_fireballs_data)\n"
   ]
  },
  {
   "cell_type": "code",
   "execution_count": null,
   "metadata": {},
   "outputs": [],
   "source": [
    "#Imagined fireballs\n",
    "imagined_fireballs_data = np.array([if1, if4, if8, if16])\n",
    "imagined_fireballs_data = pd.DataFrame(imagined_fireballs_data.T)\n",
    "imagined_fireballs_data.columns = ['1', '4', '8', '16']\n",
    "sns.boxenplot(data=imagined_fireballs_data)"
   ]
  },
  {
   "cell_type": "code",
   "execution_count": null,
   "metadata": {},
   "outputs": [],
   "source": [
    "#Total prediction errors\n",
    "prediction_errors = np.array([errors1, errors4, errors8, errors16])\n",
    "prediction_errors_data = pd.DataFrame(prediction_errors.T)\n",
    "prediction_errors_data.columns = ['1', '4', '8', '16']\n",
    "sns.boxenplot(data=prediction_errors_data)"
   ]
  },
  {
   "cell_type": "code",
   "execution_count": null,
   "metadata": {},
   "outputs": [],
   "source": [
    "#Making a \"pareto plot\" of creativity vs precision\n",
    "#TODO Change my measurements, to measure these two on the same rollouts.\n",
    "#TODO Each datapoint should represent a single model - I need to run multiple trainings of each model.\n",
    "creativity_precision_data=[] #Tuples (treatment, creativity, precision)\n",
    "all_precision_data = [errors1, errors4, errors8, errors16] #TODO Replace with more complete data\n",
    "all_creativity_data = [fb1, fb4, fb8, fb16]\n",
    "creativity_prediction_data_summed=[]\n",
    "for treatment_counter in range(len(all_precision_data)):\n",
    "    treatment_precision = all_precision_data[treatment_counter]\n",
    "    treatment_creativity = all_creativity_data[treatment_counter]\n",
    "    current_treatment_summed=[0, 0]\n",
    "    for i in range(len(treatment_precision)):\n",
    "        creativity_precision_data.append([\"Treatment\"+str(treatment_counter), treatment_precision[i], treatment_creativity[i]])\n",
    "        current_treatment_summed[0]=current_treatment_summed[0]+treatment_precision[i]\n",
    "        current_treatment_summed[1]=current_treatment_summed[1]+treatment_creativity[i]\n",
    "    creativity_prediction_data_summed.append(current_treatment_summed)\n",
    "print(creativity_precision_data)"
   ]
  },
  {
   "cell_type": "code",
   "execution_count": null,
   "metadata": {},
   "outputs": [],
   "source": [
    "#TODO May become quite interesting with more data points.\n",
    "creativity_precision_data_summed = np.array(creativity_precision_data_summed)\n",
    "print(creativity_precision_data_summed)\n",
    "creativity_precision_dataframe = pd.DataFrame({\"Treatment\":[\"1\",\"4\",\"8\",\"16\"],\n",
    "                                               \"precision-error\":creativity_precision_data_summed[:,0],\n",
    "                                               \"creativity\":creativity_precision_data_summed[:,1]})\n",
    "sns.scatterplot(x=\"precision-error\", y=\"creativity\", data=creativity_precision_dataframe, style=\"Treatment\")"
   ]
  },
  {
   "cell_type": "code",
   "execution_count": null,
   "metadata": {},
   "outputs": [],
   "source": [
    "\n",
    "creativity_precision_data=np.array(creativity_precision_data)\n",
    "creativity_precision_dataframe = pd.DataFrame({\"Treatment\":creativity_precision_data[:,0],\n",
    "                                               \"precision-error\":creativity_precision_data[:,1],\n",
    "                                               \"creativity\":creativity_precision_data[:,2]})\n",
    "creativity_precision_dataframe = creativity_precision_dataframe.apply(pd.to_numeric, errors='ignore')\n",
    "print(creativity_precision_dataframe.dtypes)\n",
    "print(creativity_precision_dataframe)\n",
    "sns.scatterplot(x=\"creativity\", y=\"precision-error\", data=creativity_precision_dataframe, style=\"Treatment\")"
   ]
  },
  {
   "cell_type": "code",
   "execution_count": null,
   "metadata": {},
   "outputs": [],
   "source": [
    "tips = sns.load_dataset(\"tips\")\n",
    "print(tips)\n",
    "sns.scatterplot(x=\"tip\", y=\"total_bill\", data=tips)"
   ]
  },
  {
   "cell_type": "code",
   "execution_count": null,
   "metadata": {},
   "outputs": [],
   "source": []
  }
 ],
 "metadata": {
  "kernelspec": {
   "display_name": "world_models_cpu",
   "language": "python",
   "name": "world_models_cpu"
  },
  "language_info": {
   "codemirror_mode": {
    "name": "ipython",
    "version": 3
   },
   "file_extension": ".py",
   "mimetype": "text/x-python",
   "name": "python",
   "nbconvert_exporter": "python",
   "pygments_lexer": "ipython3",
   "version": "3.6.6"
  }
 },
 "nbformat": 4,
 "nbformat_minor": 2
}

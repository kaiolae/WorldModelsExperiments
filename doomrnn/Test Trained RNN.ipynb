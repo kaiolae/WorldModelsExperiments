{
 "cells": [
  {
   "cell_type": "code",
   "execution_count": 1,
   "metadata": {},
   "outputs": [
    {
     "name": "stdout",
     "output_type": "stream",
     "text": [
      "/home/kaiolae/code/word_models_keras_test/WorldModels_hardmaru\n"
     ]
    }
   ],
   "source": [
    "import analyze_rnn_predictions"
   ]
  },
  {
   "cell_type": "code",
   "execution_count": 2,
   "metadata": {},
   "outputs": [],
   "source": [
    "#To access gym\n",
    "import sys\n",
    "sys.path.append('/home/kaiolae/.virtualenvs/worldmodels/lib/python3.5/site-packages')"
   ]
  },
  {
   "cell_type": "code",
   "execution_count": 3,
   "metadata": {},
   "outputs": [],
   "source": [
    "import matplotlib.pyplot as plt\n",
    "from matplotlib import animation\n",
    "from IPython.display import display, HTML\n",
    "\n",
    "\n",
    "def plot_movie_mp4(image_array):\n",
    "    dpi = 2.0\n",
    "    xpixels, ypixels = image_array[0].shape[0], image_array[0].shape[1]\n",
    "    fig = plt.figure(figsize=(ypixels/dpi, xpixels/dpi), dpi=dpi)\n",
    "    #fig = plt.figure(figsize=(1,1), dpi=dpi)\n",
    "    im = plt.figimage(image_array[0])\n",
    "\n",
    "    def animate(i):\n",
    "        im.set_array(image_array[i])\n",
    "        return (im,)\n",
    "\n",
    "    anim = animation.FuncAnimation(fig, animate, frames=len(image_array))\n",
    "    display(HTML(anim.to_html5_video()))"
   ]
  },
  {
   "cell_type": "code",
   "execution_count": 4,
   "metadata": {},
   "outputs": [
    {
     "name": "stdout",
     "output_type": "stream",
     "text": [
      "INFO:tensorflow:Model using cpu.\n",
      "model using cpu\n",
      "input dropout mode = False\n",
      "output dropout mode = False\n",
      "recurrent dropout mode = False\n",
      "INFO:tensorflow:Model using cpu.\n",
      "model using cpu\n",
      "input dropout mode = False\n",
      "output dropout mode = False\n",
      "recurrent dropout mode = False\n",
      "INFO:tensorflow:Model using cpu.\n",
      "model using cpu\n",
      "input dropout mode = False\n",
      "output dropout mode = False\n",
      "recurrent dropout mode = False\n",
      "INFO:tensorflow:Model using cpu.\n",
      "model using cpu\n",
      "input dropout mode = False\n",
      "output dropout mode = False\n",
      "recurrent dropout mode = False\n"
     ]
    }
   ],
   "source": [
    "from collections import namedtuple\n",
    "\n",
    "#Loading RNNs to analyze\n",
    "rnn1_analyzer = analyze_rnn_predictions.RNNAnalyzer(\"tf_rnn_1mixtures\", 1, 0.1)\n",
    "rnn4_analyzer = analyze_rnn_predictions.RNNAnalyzer(\"tf_rnn_4mixtures\", 4, 0.1)\n",
    "rnn8_analyzer = analyze_rnn_predictions.RNNAnalyzer(\"tf_rnn_8mixtures\", 8, 0.1)\n",
    "rnn16_analyzer = analyze_rnn_predictions.RNNAnalyzer(\"tf_rnn_16mixtures\", 16, 0.1)"
   ]
  },
  {
   "cell_type": "code",
   "execution_count": 5,
   "metadata": {},
   "outputs": [
    {
     "name": "stdout",
     "output_type": "stream",
     "text": [
      "Actions length:  177\n",
      "Latent vectors length:  177\n"
     ]
    }
   ],
   "source": [
    "#Get a start video\n",
    "#Getting data to feed into the VAE and RNN\n",
    "import numpy as np\n",
    "import os\n",
    "# load preprocessed data\n",
    "raw_data = np.load(os.path.join(\"series\", \"series.npz\"))\n",
    "raw_data_mu = raw_data[\"mu\"]\n",
    "raw_data_logvar = raw_data[\"logvar\"]\n",
    "raw_data_action =  raw_data[\"action\"]\n",
    "\n",
    "single_action_sequence = raw_data_action[16]\n",
    "single_latent_sequence = raw_data_mu[16]\n",
    "print(\"Actions length: \", len(single_action_sequence))\n",
    "print(\"Latent vectors length: \", len(single_latent_sequence))\n",
    "num_frames = len(single_latent_sequence)\n",
    "\n",
    "\n",
    "\n",
    "#Decode all 100 vectors, store as video\n",
    "#Visualize video."
   ]
  },
  {
   "cell_type": "code",
   "execution_count": 6,
   "metadata": {},
   "outputs": [],
   "source": [
    "#Decode a sequence with the VAE and visualize it\n",
    "def decode_and_visualize(latent_vector_sequence, rnn_analyzer):\n",
    "    plot_movie_mp4(rnn_analyzer.decode_with_vae(latent_vector_sequence))"
   ]
  },
  {
   "cell_type": "markdown",
   "metadata": {},
   "source": [
    "### Visualizing one sequence of latent vectors from the training data"
   ]
  },
  {
   "cell_type": "code",
   "execution_count": null,
   "metadata": {},
   "outputs": [],
   "source": [
    "#From the actual sampled images. All loss here is due to VAE.\n",
    "decode_and_visualize(single_latent_sequence, rnn1_analyzer)"
   ]
  },
  {
   "cell_type": "code",
   "execution_count": null,
   "metadata": {},
   "outputs": [],
   "source": [
    "#Generating a dream.\n",
    "action = 0 #Consider random action. Or, when predicting step by step, use the actual action\n",
    "dreamed_zs1 = []\n",
    "dreamed_z = rnn1_analyzer.predict_one_step(action, previous_z=single_latent_sequence[0])\n",
    "dreamed_zs1.append(dreamed_z)\n",
    "for i in range(100):\n",
    "    dreamed_zs1.append(rnn1_analyzer.predict_one_step(action))\n",
    "    "
   ]
  },
  {
   "cell_type": "code",
   "execution_count": null,
   "metadata": {},
   "outputs": [],
   "source": [
    "#Visualizing the dream\n",
    "decode_and_visualize(dreamed_zs1, rnn1_analyzer)"
   ]
  },
  {
   "cell_type": "code",
   "execution_count": null,
   "metadata": {},
   "outputs": [],
   "source": [
    "#Generating a dream with 16 mixtures\n",
    "action = 0 #Consider random action. Or, when predicting step by step, use the actual action\n",
    "dreamed_zs16 = []\n",
    "dreamed_z = rnn16_analyzer.predict_one_step(action, previous_z=single_latent_sequence[0])\n",
    "dreamed_zs16.append(dreamed_z)\n",
    "for i in range(100):\n",
    "    dreamed_zs16.append(rnn16_analyzer.predict_one_step(action))\n",
    "#Visualizing the dream\n",
    "decode_and_visualize(dreamed_zs16, rnn16_analyzer)"
   ]
  },
  {
   "cell_type": "markdown",
   "metadata": {},
   "source": [
    "# "
   ]
  },
  {
   "cell_type": "code",
   "execution_count": null,
   "metadata": {
    "scrolled": true
   },
   "outputs": [],
   "source": [
    "#TODO Without reset, I got the expected result. But with reset, differences between RNNs disappear.\n",
    "#Do differences for some reason only appear after a (large) number of iterations??\n",
    "#One solution might be to run 1000 timesteps, to ensure we get into the internal state that\n",
    "#exposes differences.\n",
    "#Also, randomizing initial_z could help.\n",
    "#Yes, longer sequences seemed to work.\n",
    "from test_creativity_stability import count_events_on_trained_rnn\n",
    "#Comparing performance of different models\n",
    "initial_z = single_latent_sequence[0]\n",
    "EPISODE_LENGTHS = 1000\n",
    "zero_actions = [0 for i in range(EPISODE_LENGTHS)]\n",
    "\n",
    "fb1=[]\n",
    "m1=[]\n",
    "fb8=[]\n",
    "m8=[]\n",
    "fb4=[]\n",
    "m4=[]\n",
    "fb16=[]\n",
    "m16=[]\n",
    "\n",
    "NUM_STATISTICAL_TESTS = 20\n",
    "\n",
    "for i in range(NUM_STATISTICAL_TESTS):\n",
    "    print(i)\n",
    "    e1 = count_events_on_trained_rnn(rnn1_analyzer.vae, rnn1_analyzer, initial_z, zero_actions, EPISODE_LENGTHS)\n",
    "    fb1.append(e1[\"num_fireballs\"])\n",
    "    m1.append(e1[\"num_monsters\"])\n",
    "    rnn1_analyzer._reset(initial_z)\n",
    "    \n",
    "    e8 = count_events_on_trained_rnn(rnn8_analyzer.vae, rnn8_analyzer, initial_z, zero_actions, EPISODE_LENGTHS)\n",
    "    fb8.append(e8[\"num_fireballs\"])\n",
    "    m8.append(e8[\"num_monsters\"])\n",
    "    rnn8_analyzer._reset(initial_z)\n",
    "    \n",
    "    e4 = count_events_on_trained_rnn(rnn4_analyzer.vae, rnn4_analyzer, initial_z, zero_actions, EPISODE_LENGTHS)\n",
    "    fb4.append(e4[\"num_fireballs\"])\n",
    "    m4.append(e4[\"num_monsters\"])\n",
    "    rnn4_analyzer._reset(initial_z)\n",
    "    \n",
    "    e16 = count_events_on_trained_rnn(rnn16_analyzer.vae, rnn16_analyzer, initial_z, zero_actions, EPISODE_LENGTHS)\n",
    "    fb16.append(e16[\"num_fireballs\"])\n",
    "    m16.append(e16[\"num_monsters\"])\n",
    "    rnn16_analyzer._reset(initial_z)\n",
    "    \n"
   ]
  },
  {
   "cell_type": "code",
   "execution_count": null,
   "metadata": {},
   "outputs": [],
   "source": [
    "print(\"fb1:\", sum(fb1)/float(len(fb1)))\n",
    "print(\"fb4:\", sum(fb4)/float(len(fb4)))\n",
    "print(\"fb8:\", sum(fb8)/float(len(fb8)))\n",
    "print(\"fb16:\", sum(fb16)/float(len(fb16)))\n",
    "\n",
    "print(\"m1:\", sum(m1)/float(len(m1)))\n",
    "print(\"m4:\", sum(m4)/float(len(m4)))\n",
    "print(\"m8:\", sum(m8)/float(len(m8)))\n",
    "print(\"m16:\", sum(m16)/float(len(m16)))\n",
    "#TODO Store and show some random videos, to help interpret these results.\n",
    "#TODO box plots?\n",
    "#Those fireball numbers suggest increased creativity with higher numbers of mixtures.\n",
    "#Now, how to measure stability? Maybe predicting N (=1 initially) frames ahead, and measuring diff btw z-vectors,\n",
    "#OR diff btw fireball/monster metrics?"
   ]
  },
  {
   "cell_type": "code",
   "execution_count": null,
   "metadata": {},
   "outputs": [],
   "source": [
    "print(fb1)"
   ]
  },
  {
   "cell_type": "code",
   "execution_count": 12,
   "metadata": {},
   "outputs": [
    {
     "name": "stdout",
     "output_type": "stream",
     "text": [
      "0\n",
      "1\n",
      "2\n",
      "3\n",
      "4\n",
      "5\n",
      "6\n",
      "7\n",
      "8\n",
      "9\n",
      "10\n",
      "11\n",
      "12\n",
      "13\n",
      "14\n",
      "15\n",
      "16\n",
      "17\n",
      "18\n",
      "19\n"
     ]
    }
   ],
   "source": [
    "#Testing differences between real and predicted images. Rather than dreaming up many steps ahead, we here\n",
    "#Dream 1 step ahead, and compare to what actually happened. Tests stability of the prediction.\n",
    "mm1 = []\n",
    "mf1= []\n",
    "im1 = []\n",
    "if1 = []\n",
    "\n",
    "mm4 = []\n",
    "mf4= []\n",
    "im4 = []\n",
    "if4 = []\n",
    "\n",
    "mm8 = []\n",
    "mf8= []\n",
    "im8 = []\n",
    "if8 = []\n",
    "\n",
    "mm16 = []\n",
    "mf16= []\n",
    "im16 = []\n",
    "if16 = []\n",
    "initial_z = single_latent_sequence[0]\n",
    "\n",
    "NUM_STATISTICAL_TESTS = 20\n",
    "from test_creativity_stability import count_differences_between_reality_and_prediction\n",
    "\n",
    "for i in range(NUM_STATISTICAL_TESTS):\n",
    "    print(i)\n",
    "    e1 = count_differences_between_reality_and_prediction(rnn1_analyzer.vae, rnn1_analyzer, single_latent_sequence, single_action_sequence)\n",
    "    mf1.append(e1[\"missing_fireballs\"])\n",
    "    if1.append(e1[\"imagined_fireballs\"])\n",
    "    rnn1_analyzer._reset(initial_z)\n",
    "    \n",
    "    e8 = count_differences_between_reality_and_prediction(rnn8_analyzer.vae, rnn8_analyzer, single_latent_sequence, single_action_sequence)\n",
    "    mf8.append(e8[\"missing_fireballs\"])\n",
    "    if8.append(e8[\"imagined_fireballs\"])\n",
    "    rnn8_analyzer._reset(initial_z)\n",
    "    \n",
    "    e4 = count_differences_between_reality_and_prediction(rnn4_analyzer.vae, rnn4_analyzer, single_latent_sequence, single_action_sequence)\n",
    "    mf4.append(e4[\"missing_fireballs\"])\n",
    "    if4.append(e4[\"imagined_fireballs\"])\n",
    "    rnn4_analyzer._reset(initial_z)\n",
    "    \n",
    "    e16 = count_differences_between_reality_and_prediction(rnn16_analyzer.vae, rnn16_analyzer, single_latent_sequence, single_action_sequence)\n",
    "    mf16.append(e16[\"missing_fireballs\"])\n",
    "    if16.append(e16[\"imagined_fireballs\"])\n",
    "    rnn16_analyzer._reset(initial_z)"
   ]
  },
  {
   "cell_type": "code",
   "execution_count": 13,
   "metadata": {},
   "outputs": [
    {
     "name": "stdout",
     "output_type": "stream",
     "text": [
      "mf1: 3.55\n",
      "mf4: 10.15\n",
      "mf8: 3.85\n",
      "mf16: 3.85\n",
      "if1: 1.65\n",
      "if4: 1.55\n",
      "if8: 3.4\n",
      "if16: 3.3\n"
     ]
    }
   ],
   "source": [
    "print(\"mf1:\", sum(mf1)/float(len(mf1)))\n",
    "print(\"mf4:\", sum(mf4)/float(len(mf4)))\n",
    "print(\"mf8:\", sum(mf8)/float(len(mf8)))\n",
    "print(\"mf16:\", sum(mf16)/float(len(mf16)))\n",
    "\n",
    "print(\"if1:\", sum(if1)/float(len(if1)))\n",
    "print(\"if4:\", sum(if4)/float(len(if4)))\n",
    "print(\"if8:\", sum(if8)/float(len(if8)))\n",
    "print(\"if16:\", sum(if16)/float(len(if16)))\n",
    "\n",
    "#Preliminary conclusion: Many mixtures (8/16) give more creativity, being able to \"imagine\" more fireballs,\n",
    "#but also more inaccuracies, by imagining fireballs that shouldnt be there."
   ]
  },
  {
   "cell_type": "code",
   "execution_count": null,
   "metadata": {},
   "outputs": [],
   "source": []
  }
 ],
 "metadata": {
  "kernelspec": {
   "display_name": "world_models_new",
   "language": "python",
   "name": "world_models_new"
  },
  "language_info": {
   "codemirror_mode": {
    "name": "ipython",
    "version": 3
   },
   "file_extension": ".py",
   "mimetype": "text/x-python",
   "name": "python",
   "nbconvert_exporter": "python",
   "pygments_lexer": "ipython3",
   "version": "3.6.6"
  }
 },
 "nbformat": 4,
 "nbformat_minor": 2
}
